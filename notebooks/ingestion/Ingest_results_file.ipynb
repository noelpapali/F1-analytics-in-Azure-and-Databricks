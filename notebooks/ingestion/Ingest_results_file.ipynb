{
 "cells": [
  {
   "cell_type": "markdown",
   "metadata": {
    "application/vnd.databricks.v1+cell": {
     "cellMetadata": {
      "byteLimit": 2048000,
      "rowLimit": 10000
     },
     "inputWidgets": {},
     "nuid": "7e4e452a-414b-488f-82a0-b0094baac3b3",
     "showTitle": false,
     "tableResultSettingsMap": {},
     "title": ""
    }
   },
   "source": [
    "### ingest results file"
   ]
  },
  {
   "cell_type": "markdown",
   "metadata": {
    "application/vnd.databricks.v1+cell": {
     "cellMetadata": {
      "byteLimit": 2048000,
      "rowLimit": 10000
     },
     "inputWidgets": {},
     "nuid": "64b6bce5-4b9a-4649-bfeb-fd5cb2449009",
     "showTitle": false,
     "tableResultSettingsMap": {},
     "title": ""
    },
    "jupyter": {
     "outputs_hidden": true
    }
   },
   "source": [
    "##### Read the json file using the spark dataframe reader"
   ]
  },
  {
   "cell_type": "code",
   "execution_count": 0,
   "metadata": {
    "application/vnd.databricks.v1+cell": {
     "cellMetadata": {
      "byteLimit": 2048000,
      "rowLimit": 10000
     },
     "inputWidgets": {},
     "nuid": "384495f1-bdba-4160-a15c-3eac99918ec1",
     "showTitle": false,
     "tableResultSettingsMap": {},
     "title": ""
    }
   },
   "outputs": [],
   "source": [
    "dbutils.widgets.text(\"p_data_source\", \"\")\n",
    "v_data_source = dbutils.widgets.get(\"p_data_source\")"
   ]
  },
  {
   "cell_type": "code",
   "execution_count": 0,
   "metadata": {
    "application/vnd.databricks.v1+cell": {
     "cellMetadata": {
      "byteLimit": 2048000,
      "rowLimit": 10000
     },
     "inputWidgets": {},
     "nuid": "69774c68-da3b-4752-bddc-bf4b8e5ec095",
     "showTitle": false,
     "tableResultSettingsMap": {},
     "title": ""
    }
   },
   "outputs": [],
   "source": [
    "dbutils.widgets.text(\"p_file_date\", \"2021-03-21\")\n",
    "v_file_date = dbutils.widgets.get(\"p_file_date\")"
   ]
  },
  {
   "cell_type": "code",
   "execution_count": 0,
   "metadata": {
    "application/vnd.databricks.v1+cell": {
     "cellMetadata": {
      "byteLimit": 2048000,
      "rowLimit": 10000
     },
     "inputWidgets": {},
     "nuid": "831907b1-2a63-48ab-b998-973b30861714",
     "showTitle": false,
     "tableResultSettingsMap": {},
     "title": ""
    },
    "jupyter": {
     "outputs_hidden": true
    }
   },
   "outputs": [],
   "source": [
    "from pyspark.sql.types import StructType, StructField, IntegerType, StringType, FloatType, DoubleType"
   ]
  },
  {
   "cell_type": "code",
   "execution_count": 0,
   "metadata": {
    "application/vnd.databricks.v1+cell": {
     "cellMetadata": {
      "byteLimit": 2048000,
      "rowLimit": 10000
     },
     "inputWidgets": {},
     "nuid": "f7ba523e-251e-46ae-9297-50bac24460e8",
     "showTitle": false,
     "tableResultSettingsMap": {},
     "title": ""
    }
   },
   "outputs": [],
   "source": [
    "results_schema = StructType([\n",
    "    StructField(\"resultId\", IntegerType(), True),\n",
    "    StructField(\"raceId\", IntegerType(), True),\n",
    "    StructField(\"driverId\", IntegerType(), True),\n",
    "    StructField(\"constructorId\", IntegerType(), True),\n",
    "    StructField(\"number\", IntegerType(), True),\n",
    "    StructField(\"grid\", IntegerType(), True),\n",
    "    StructField(\"position\", IntegerType(), True),\n",
    "    StructField(\"positionText\", StringType(), True),\n",
    "    StructField(\"positionOrder\", IntegerType(), True),\n",
    "    StructField(\"points\", FloatType(), True),\n",
    "    StructField(\"laps\", IntegerType(), True),\n",
    "    StructField(\"time\", StringType(), True),\n",
    "    StructField(\"milliseconds\", IntegerType(), True),\n",
    "    StructField(\"fastestLap\", IntegerType(), True),\n",
    "    StructField(\"rank\", IntegerType(), True),\n",
    "    StructField(\"fastestLapTime\", StringType(), True),\n",
    "    StructField(\"fastestLapSpeed\", DoubleType(), True),\n",
    "    StructField(\"statusId\", IntegerType(), True)\n",
    "])\n",
    "                                  "
   ]
  },
  {
   "cell_type": "code",
   "execution_count": 0,
   "metadata": {
    "application/vnd.databricks.v1+cell": {
     "cellMetadata": {
      "byteLimit": 2048000,
      "rowLimit": 10000
     },
     "inputWidgets": {},
     "nuid": "c8c9ea56-8f9a-4957-9879-d1c99de76302",
     "showTitle": false,
     "tableResultSettingsMap": {},
     "title": ""
    }
   },
   "outputs": [],
   "source": [
    "results_df = spark.read \\\n",
    ".option(\"header\", True) \\\n",
    ".schema(results_schema) \\\n",
    ".json(f\"/mnt/f1datalake2025/raw/{v_file_date}/results.json\")\n"
   ]
  },
  {
   "cell_type": "code",
   "execution_count": 0,
   "metadata": {
    "application/vnd.databricks.v1+cell": {
     "cellMetadata": {
      "byteLimit": 2048000,
      "rowLimit": 10000
     },
     "inputWidgets": {},
     "nuid": "0210214a-33e9-4323-a813-9c0c9fc64dd8",
     "showTitle": false,
     "tableResultSettingsMap": {
      "0": {
       "dataGridStateBlob": "{\"version\":1,\"tableState\":{\"columnPinning\":{\"left\":[\"#row_number#\"],\"right\":[]},\"columnSizing\":{},\"columnVisibility\":{}},\"settings\":{\"columns\":{\"url\":{\"format\":{\"preset\":\"string-preset-url\"}}}},\"syncTimestamp\":1752968413984}",
       "filterBlob": null,
       "queryPlanFiltersBlob": null,
       "tableResultIndex": 0
      }
     },
     "title": ""
    }
   },
   "outputs": [
    {
     "output_type": "display_data",
     "data": {
      "text/html": [
       "<style scoped>\n",
       "  .table-result-container {\n",
       "    max-height: 300px;\n",
       "    overflow: auto;\n",
       "  }\n",
       "  table, th, td {\n",
       "    border: 1px solid black;\n",
       "    border-collapse: collapse;\n",
       "  }\n",
       "  th, td {\n",
       "    padding: 5px;\n",
       "  }\n",
       "  th {\n",
       "    text-align: left;\n",
       "  }\n",
       "</style><div class='table-result-container'><table class='table-result'><thead style='background-color: white'><tr><th>resultId</th><th>raceId</th><th>driverId</th><th>constructorId</th><th>number</th><th>grid</th><th>position</th><th>positionText</th><th>positionOrder</th><th>points</th><th>laps</th><th>time</th><th>milliseconds</th><th>fastestLap</th><th>rank</th><th>fastestLapTime</th><th>fastestLapSpeed</th><th>statusId</th></tr></thead><tbody><tr><td>24986</td><td>1053</td><td>830</td><td>9</td><td>33</td><td>3</td><td>1</td><td>1</td><td>1</td><td>25.0</td><td>63</td><td>2:02:34.598</td><td>7354598</td><td>60</td><td>2</td><td>1:17.524</td><td>227.96</td><td>1</td></tr><tr><td>24987</td><td>1053</td><td>1</td><td>131</td><td>44</td><td>1</td><td>2</td><td>2</td><td>2</td><td>19.0</td><td>63</td><td>+22.000</td><td>7376598</td><td>60</td><td>1</td><td>1:16.702</td><td>230.403</td><td>1</td></tr><tr><td>24988</td><td>1053</td><td>846</td><td>1</td><td>4</td><td>7</td><td>3</td><td>3</td><td>3</td><td>15.0</td><td>63</td><td>+23.702</td><td>7378300</td><td>63</td><td>3</td><td>1:18.259</td><td>225.819</td><td>1</td></tr><tr><td>24989</td><td>1053</td><td>844</td><td>6</td><td>16</td><td>4</td><td>4</td><td>4</td><td>4</td><td>12.0</td><td>63</td><td>+25.579</td><td>7380177</td><td>60</td><td>6</td><td>1:18.379</td><td>225.473</td><td>1</td></tr><tr><td>24990</td><td>1053</td><td>832</td><td>6</td><td>55</td><td>11</td><td>5</td><td>5</td><td>5</td><td>10.0</td><td>63</td><td>+27.036</td><td>7381634</td><td>60</td><td>7</td><td>1:18.490</td><td>225.154</td><td>1</td></tr><tr><td>24991</td><td>1053</td><td>817</td><td>1</td><td>3</td><td>6</td><td>6</td><td>6</td><td>6</td><td>8.0</td><td>63</td><td>+51.220</td><td>7405818</td><td>54</td><td>12</td><td>1:19.341</td><td>222.739</td><td>1</td></tr><tr><td>24992</td><td>1053</td><td>842</td><td>213</td><td>10</td><td>5</td><td>7</td><td>7</td><td>7</td><td>6.0</td><td>63</td><td>+52.818</td><td>7407416</td><td>52</td><td>9</td><td>1:18.994</td><td>223.718</td><td>1</td></tr><tr><td>24993</td><td>1053</td><td>840</td><td>117</td><td>18</td><td>10</td><td>8</td><td>8</td><td>8</td><td>4.0</td><td>63</td><td>+56.909</td><td>7411507</td><td>59</td><td>8</td><td>1:18.782</td><td>224.32</td><td>1</td></tr><tr><td>24994</td><td>1053</td><td>839</td><td>214</td><td>31</td><td>9</td><td>9</td><td>9</td><td>9</td><td>2.0</td><td>63</td><td>+65.704</td><td>7420302</td><td>62</td><td>15</td><td>1:19.422</td><td>222.512</td><td>1</td></tr><tr><td>24995</td><td>1053</td><td>4</td><td>214</td><td>14</td><td>15</td><td>10</td><td>10</td><td>10</td><td>1.0</td><td>63</td><td>+66.561</td><td>7421159</td><td>62</td><td>14</td><td>1:19.417</td><td>222.526</td><td>1</td></tr><tr><td>24996</td><td>1053</td><td>815</td><td>9</td><td>11</td><td>2</td><td>11</td><td>11</td><td>11</td><td>0.0</td><td>63</td><td>+67.151</td><td>7421749</td><td>62</td><td>13</td><td>1:19.396</td><td>222.585</td><td>1</td></tr><tr><td>24997</td><td>1053</td><td>852</td><td>213</td><td>22</td><td>20</td><td>12</td><td>12</td><td>12</td><td>0.0</td><td>63</td><td>+73.184</td><td>7427782</td><td>49</td><td>4</td><td>1:18.334</td><td>225.603</td><td>1</td></tr><tr><td>24998</td><td>1053</td><td>8</td><td>51</td><td>7</td><td>16</td><td>13</td><td>13</td><td>13</td><td>0.0</td><td>63</td><td>+94.773</td><td>7449371</td><td>62</td><td>5</td><td>1:18.353</td><td>225.548</td><td>1</td></tr><tr><td>24999</td><td>1053</td><td>841</td><td>51</td><td>99</td><td>17</td><td>14</td><td>14</td><td>14</td><td>0.0</td><td>62</td><td>\\N</td><td>null</td><td>57</td><td>16</td><td>1:19.470</td><td>222.378</td><td>11</td></tr><tr><td>25000</td><td>1053</td><td>20</td><td>117</td><td>5</td><td>0</td><td>15</td><td>15</td><td>15</td><td>0.0</td><td>61</td><td>\\N</td><td>null</td><td>59</td><td>10</td><td>1:19.074</td><td>223.491</td><td>6</td></tr><tr><td>25001</td><td>1053</td><td>854</td><td>210</td><td>47</td><td>18</td><td>16</td><td>16</td><td>16</td><td>0.0</td><td>61</td><td>\\N</td><td>null</td><td>58</td><td>11</td><td>1:19.193</td><td>223.156</td><td>12</td></tr><tr><td>25002</td><td>1053</td><td>853</td><td>210</td><td>9</td><td>19</td><td>17</td><td>17</td><td>17</td><td>0.0</td><td>61</td><td>\\N</td><td>null</td><td>55</td><td>17</td><td>1:20.402</td><td>219.8</td><td>12</td></tr><tr><td>25003</td><td>1053</td><td>822</td><td>131</td><td>77</td><td>8</td><td>null</td><td>R</td><td>18</td><td>0.0</td><td>30</td><td>\\N</td><td>null</td><td>30</td><td>19</td><td>1:28.485</td><td>199.721</td><td>4</td></tr><tr><td>25004</td><td>1053</td><td>847</td><td>3</td><td>63</td><td>12</td><td>null</td><td>R</td><td>19</td><td>0.0</td><td>30</td><td>\\N</td><td>null</td><td>28</td><td>18</td><td>1:26.543</td><td>204.203</td><td>4</td></tr><tr><td>25005</td><td>1053</td><td>849</td><td>3</td><td>6</td><td>14</td><td>null</td><td>R</td><td>20</td><td>0.0</td><td>0</td><td>\\N</td><td>null</td><td>null</td><td>0</td><td>\\N</td><td>null</td><td>4</td></tr></tbody></table></div>"
      ]
     },
     "metadata": {
      "application/vnd.databricks.v1+output": {
       "addedWidgets": {},
       "aggData": [],
       "aggError": "",
       "aggOverflow": false,
       "aggSchema": [],
       "aggSeriesLimitReached": false,
       "aggType": "",
       "arguments": {},
       "columnCustomDisplayInfos": {},
       "data": [
        [
         24986,
         1053,
         830,
         9,
         33,
         3,
         1,
         "1",
         1,
         25.0,
         63,
         "2:02:34.598",
         7354598,
         60,
         2,
         "1:17.524",
         227.96,
         1
        ],
        [
         24987,
         1053,
         1,
         131,
         44,
         1,
         2,
         "2",
         2,
         19.0,
         63,
         "+22.000",
         7376598,
         60,
         1,
         "1:16.702",
         230.403,
         1
        ],
        [
         24988,
         1053,
         846,
         1,
         4,
         7,
         3,
         "3",
         3,
         15.0,
         63,
         "+23.702",
         7378300,
         63,
         3,
         "1:18.259",
         225.819,
         1
        ],
        [
         24989,
         1053,
         844,
         6,
         16,
         4,
         4,
         "4",
         4,
         12.0,
         63,
         "+25.579",
         7380177,
         60,
         6,
         "1:18.379",
         225.473,
         1
        ],
        [
         24990,
         1053,
         832,
         6,
         55,
         11,
         5,
         "5",
         5,
         10.0,
         63,
         "+27.036",
         7381634,
         60,
         7,
         "1:18.490",
         225.154,
         1
        ],
        [
         24991,
         1053,
         817,
         1,
         3,
         6,
         6,
         "6",
         6,
         8.0,
         63,
         "+51.220",
         7405818,
         54,
         12,
         "1:19.341",
         222.739,
         1
        ],
        [
         24992,
         1053,
         842,
         213,
         10,
         5,
         7,
         "7",
         7,
         6.0,
         63,
         "+52.818",
         7407416,
         52,
         9,
         "1:18.994",
         223.718,
         1
        ],
        [
         24993,
         1053,
         840,
         117,
         18,
         10,
         8,
         "8",
         8,
         4.0,
         63,
         "+56.909",
         7411507,
         59,
         8,
         "1:18.782",
         224.32,
         1
        ],
        [
         24994,
         1053,
         839,
         214,
         31,
         9,
         9,
         "9",
         9,
         2.0,
         63,
         "+65.704",
         7420302,
         62,
         15,
         "1:19.422",
         222.512,
         1
        ],
        [
         24995,
         1053,
         4,
         214,
         14,
         15,
         10,
         "10",
         10,
         1.0,
         63,
         "+66.561",
         7421159,
         62,
         14,
         "1:19.417",
         222.526,
         1
        ],
        [
         24996,
         1053,
         815,
         9,
         11,
         2,
         11,
         "11",
         11,
         0.0,
         63,
         "+67.151",
         7421749,
         62,
         13,
         "1:19.396",
         222.585,
         1
        ],
        [
         24997,
         1053,
         852,
         213,
         22,
         20,
         12,
         "12",
         12,
         0.0,
         63,
         "+73.184",
         7427782,
         49,
         4,
         "1:18.334",
         225.603,
         1
        ],
        [
         24998,
         1053,
         8,
         51,
         7,
         16,
         13,
         "13",
         13,
         0.0,
         63,
         "+94.773",
         7449371,
         62,
         5,
         "1:18.353",
         225.548,
         1
        ],
        [
         24999,
         1053,
         841,
         51,
         99,
         17,
         14,
         "14",
         14,
         0.0,
         62,
         "\\N",
         null,
         57,
         16,
         "1:19.470",
         222.378,
         11
        ],
        [
         25000,
         1053,
         20,
         117,
         5,
         0,
         15,
         "15",
         15,
         0.0,
         61,
         "\\N",
         null,
         59,
         10,
         "1:19.074",
         223.491,
         6
        ],
        [
         25001,
         1053,
         854,
         210,
         47,
         18,
         16,
         "16",
         16,
         0.0,
         61,
         "\\N",
         null,
         58,
         11,
         "1:19.193",
         223.156,
         12
        ],
        [
         25002,
         1053,
         853,
         210,
         9,
         19,
         17,
         "17",
         17,
         0.0,
         61,
         "\\N",
         null,
         55,
         17,
         "1:20.402",
         219.8,
         12
        ],
        [
         25003,
         1053,
         822,
         131,
         77,
         8,
         null,
         "R",
         18,
         0.0,
         30,
         "\\N",
         null,
         30,
         19,
         "1:28.485",
         199.721,
         4
        ],
        [
         25004,
         1053,
         847,
         3,
         63,
         12,
         null,
         "R",
         19,
         0.0,
         30,
         "\\N",
         null,
         28,
         18,
         "1:26.543",
         204.203,
         4
        ],
        [
         25005,
         1053,
         849,
         3,
         6,
         14,
         null,
         "R",
         20,
         0.0,
         0,
         "\\N",
         null,
         null,
         0,
         "\\N",
         null,
         4
        ]
       ],
       "datasetInfos": [],
       "dbfsResultPath": null,
       "isJsonSchema": true,
       "metadata": {},
       "overflow": false,
       "plotOptions": {
        "customPlotOptions": {},
        "displayType": "table",
        "pivotAggregation": null,
        "pivotColumns": null,
        "xColumns": null,
        "yColumns": null
       },
       "removedWidgets": [],
       "schema": [
        {
         "metadata": "{}",
         "name": "resultId",
         "type": "\"integer\""
        },
        {
         "metadata": "{}",
         "name": "raceId",
         "type": "\"integer\""
        },
        {
         "metadata": "{}",
         "name": "driverId",
         "type": "\"integer\""
        },
        {
         "metadata": "{}",
         "name": "constructorId",
         "type": "\"integer\""
        },
        {
         "metadata": "{}",
         "name": "number",
         "type": "\"integer\""
        },
        {
         "metadata": "{}",
         "name": "grid",
         "type": "\"integer\""
        },
        {
         "metadata": "{}",
         "name": "position",
         "type": "\"integer\""
        },
        {
         "metadata": "{}",
         "name": "positionText",
         "type": "\"string\""
        },
        {
         "metadata": "{}",
         "name": "positionOrder",
         "type": "\"integer\""
        },
        {
         "metadata": "{}",
         "name": "points",
         "type": "\"float\""
        },
        {
         "metadata": "{}",
         "name": "laps",
         "type": "\"integer\""
        },
        {
         "metadata": "{}",
         "name": "time",
         "type": "\"string\""
        },
        {
         "metadata": "{}",
         "name": "milliseconds",
         "type": "\"integer\""
        },
        {
         "metadata": "{}",
         "name": "fastestLap",
         "type": "\"integer\""
        },
        {
         "metadata": "{}",
         "name": "rank",
         "type": "\"integer\""
        },
        {
         "metadata": "{}",
         "name": "fastestLapTime",
         "type": "\"string\""
        },
        {
         "metadata": "{}",
         "name": "fastestLapSpeed",
         "type": "\"double\""
        },
        {
         "metadata": "{}",
         "name": "statusId",
         "type": "\"integer\""
        }
       ],
       "type": "table"
      }
     },
     "output_type": "display_data"
    }
   ],
   "source": [
    "display(results_df)"
   ]
  },
  {
   "cell_type": "markdown",
   "metadata": {
    "application/vnd.databricks.v1+cell": {
     "cellMetadata": {
      "byteLimit": 2048000,
      "rowLimit": 10000
     },
     "inputWidgets": {},
     "nuid": "64456c8b-0dc8-4d14-b8f9-addd4f2fb4ef",
     "showTitle": false,
     "tableResultSettingsMap": {},
     "title": ""
    }
   },
   "source": [
    "#####add ingestion date and rename\n"
   ]
  },
  {
   "cell_type": "code",
   "execution_count": 0,
   "metadata": {
    "application/vnd.databricks.v1+cell": {
     "cellMetadata": {
      "byteLimit": 2048000,
      "rowLimit": 10000
     },
     "inputWidgets": {},
     "nuid": "e06d8b80-8756-436d-afa6-3bc79511e491",
     "showTitle": false,
     "tableResultSettingsMap": {},
     "title": ""
    }
   },
   "outputs": [],
   "source": [
    "from pyspark.sql.functions import current_timestamp, lit"
   ]
  },
  {
   "cell_type": "code",
   "execution_count": 0,
   "metadata": {
    "application/vnd.databricks.v1+cell": {
     "cellMetadata": {
      "byteLimit": 2048000,
      "rowLimit": 10000
     },
     "inputWidgets": {},
     "nuid": "f9cdf716-bc12-4c74-90c3-56fe61b3665f",
     "showTitle": false,
     "tableResultSettingsMap": {
      "0": {
       "dataGridStateBlob": "{\"version\":1,\"tableState\":{\"columnPinning\":{\"left\":[\"#row_number#\"],\"right\":[]},\"columnSizing\":{},\"columnVisibility\":{}},\"settings\":{\"columns\":{}},\"syncTimestamp\":1753488926510}",
       "filterBlob": null,
       "queryPlanFiltersBlob": null,
       "tableResultIndex": 0
      }
     },
     "title": ""
    }
   },
   "outputs": [
    {
     "output_type": "display_data",
     "data": {
      "text/html": [
       "<style scoped>\n",
       "  .table-result-container {\n",
       "    max-height: 300px;\n",
       "    overflow: auto;\n",
       "  }\n",
       "  table, th, td {\n",
       "    border: 1px solid black;\n",
       "    border-collapse: collapse;\n",
       "  }\n",
       "  th, td {\n",
       "    padding: 5px;\n",
       "  }\n",
       "  th {\n",
       "    text-align: left;\n",
       "  }\n",
       "</style><div class='table-result-container'><table class='table-result'><thead style='background-color: white'><tr><th>result_id</th><th>race_id</th><th>driver_id</th><th>constructor_id</th><th>number</th><th>grid</th><th>position</th><th>position_text</th><th>position_order</th><th>points</th><th>laps</th><th>time</th><th>milliseconds</th><th>fastest_lap</th><th>rank</th><th>fastest_lap_time</th><th>fastest_lap_speed</th><th>status_id</th><th>ingestion_date</th><th>data_source</th><th>file_date</th></tr></thead><tbody><tr><td>24986</td><td>1053</td><td>830</td><td>9</td><td>33</td><td>3</td><td>1</td><td>1</td><td>1</td><td>25.0</td><td>63</td><td>2:02:34.598</td><td>7354598</td><td>60</td><td>2</td><td>1:17.524</td><td>227.96</td><td>1</td><td>2025-08-10T06:44:58.28Z</td><td></td><td>2021-04-18</td></tr><tr><td>24987</td><td>1053</td><td>1</td><td>131</td><td>44</td><td>1</td><td>2</td><td>2</td><td>2</td><td>19.0</td><td>63</td><td>+22.000</td><td>7376598</td><td>60</td><td>1</td><td>1:16.702</td><td>230.403</td><td>1</td><td>2025-08-10T06:44:58.28Z</td><td></td><td>2021-04-18</td></tr><tr><td>24988</td><td>1053</td><td>846</td><td>1</td><td>4</td><td>7</td><td>3</td><td>3</td><td>3</td><td>15.0</td><td>63</td><td>+23.702</td><td>7378300</td><td>63</td><td>3</td><td>1:18.259</td><td>225.819</td><td>1</td><td>2025-08-10T06:44:58.28Z</td><td></td><td>2021-04-18</td></tr><tr><td>24989</td><td>1053</td><td>844</td><td>6</td><td>16</td><td>4</td><td>4</td><td>4</td><td>4</td><td>12.0</td><td>63</td><td>+25.579</td><td>7380177</td><td>60</td><td>6</td><td>1:18.379</td><td>225.473</td><td>1</td><td>2025-08-10T06:44:58.28Z</td><td></td><td>2021-04-18</td></tr><tr><td>24990</td><td>1053</td><td>832</td><td>6</td><td>55</td><td>11</td><td>5</td><td>5</td><td>5</td><td>10.0</td><td>63</td><td>+27.036</td><td>7381634</td><td>60</td><td>7</td><td>1:18.490</td><td>225.154</td><td>1</td><td>2025-08-10T06:44:58.28Z</td><td></td><td>2021-04-18</td></tr><tr><td>24991</td><td>1053</td><td>817</td><td>1</td><td>3</td><td>6</td><td>6</td><td>6</td><td>6</td><td>8.0</td><td>63</td><td>+51.220</td><td>7405818</td><td>54</td><td>12</td><td>1:19.341</td><td>222.739</td><td>1</td><td>2025-08-10T06:44:58.28Z</td><td></td><td>2021-04-18</td></tr><tr><td>24992</td><td>1053</td><td>842</td><td>213</td><td>10</td><td>5</td><td>7</td><td>7</td><td>7</td><td>6.0</td><td>63</td><td>+52.818</td><td>7407416</td><td>52</td><td>9</td><td>1:18.994</td><td>223.718</td><td>1</td><td>2025-08-10T06:44:58.28Z</td><td></td><td>2021-04-18</td></tr><tr><td>24993</td><td>1053</td><td>840</td><td>117</td><td>18</td><td>10</td><td>8</td><td>8</td><td>8</td><td>4.0</td><td>63</td><td>+56.909</td><td>7411507</td><td>59</td><td>8</td><td>1:18.782</td><td>224.32</td><td>1</td><td>2025-08-10T06:44:58.28Z</td><td></td><td>2021-04-18</td></tr><tr><td>24994</td><td>1053</td><td>839</td><td>214</td><td>31</td><td>9</td><td>9</td><td>9</td><td>9</td><td>2.0</td><td>63</td><td>+65.704</td><td>7420302</td><td>62</td><td>15</td><td>1:19.422</td><td>222.512</td><td>1</td><td>2025-08-10T06:44:58.28Z</td><td></td><td>2021-04-18</td></tr><tr><td>24995</td><td>1053</td><td>4</td><td>214</td><td>14</td><td>15</td><td>10</td><td>10</td><td>10</td><td>1.0</td><td>63</td><td>+66.561</td><td>7421159</td><td>62</td><td>14</td><td>1:19.417</td><td>222.526</td><td>1</td><td>2025-08-10T06:44:58.28Z</td><td></td><td>2021-04-18</td></tr><tr><td>24996</td><td>1053</td><td>815</td><td>9</td><td>11</td><td>2</td><td>11</td><td>11</td><td>11</td><td>0.0</td><td>63</td><td>+67.151</td><td>7421749</td><td>62</td><td>13</td><td>1:19.396</td><td>222.585</td><td>1</td><td>2025-08-10T06:44:58.28Z</td><td></td><td>2021-04-18</td></tr><tr><td>24997</td><td>1053</td><td>852</td><td>213</td><td>22</td><td>20</td><td>12</td><td>12</td><td>12</td><td>0.0</td><td>63</td><td>+73.184</td><td>7427782</td><td>49</td><td>4</td><td>1:18.334</td><td>225.603</td><td>1</td><td>2025-08-10T06:44:58.28Z</td><td></td><td>2021-04-18</td></tr><tr><td>24998</td><td>1053</td><td>8</td><td>51</td><td>7</td><td>16</td><td>13</td><td>13</td><td>13</td><td>0.0</td><td>63</td><td>+94.773</td><td>7449371</td><td>62</td><td>5</td><td>1:18.353</td><td>225.548</td><td>1</td><td>2025-08-10T06:44:58.28Z</td><td></td><td>2021-04-18</td></tr><tr><td>24999</td><td>1053</td><td>841</td><td>51</td><td>99</td><td>17</td><td>14</td><td>14</td><td>14</td><td>0.0</td><td>62</td><td>\\N</td><td>null</td><td>57</td><td>16</td><td>1:19.470</td><td>222.378</td><td>11</td><td>2025-08-10T06:44:58.28Z</td><td></td><td>2021-04-18</td></tr><tr><td>25000</td><td>1053</td><td>20</td><td>117</td><td>5</td><td>0</td><td>15</td><td>15</td><td>15</td><td>0.0</td><td>61</td><td>\\N</td><td>null</td><td>59</td><td>10</td><td>1:19.074</td><td>223.491</td><td>6</td><td>2025-08-10T06:44:58.28Z</td><td></td><td>2021-04-18</td></tr><tr><td>25001</td><td>1053</td><td>854</td><td>210</td><td>47</td><td>18</td><td>16</td><td>16</td><td>16</td><td>0.0</td><td>61</td><td>\\N</td><td>null</td><td>58</td><td>11</td><td>1:19.193</td><td>223.156</td><td>12</td><td>2025-08-10T06:44:58.28Z</td><td></td><td>2021-04-18</td></tr><tr><td>25002</td><td>1053</td><td>853</td><td>210</td><td>9</td><td>19</td><td>17</td><td>17</td><td>17</td><td>0.0</td><td>61</td><td>\\N</td><td>null</td><td>55</td><td>17</td><td>1:20.402</td><td>219.8</td><td>12</td><td>2025-08-10T06:44:58.28Z</td><td></td><td>2021-04-18</td></tr><tr><td>25003</td><td>1053</td><td>822</td><td>131</td><td>77</td><td>8</td><td>null</td><td>R</td><td>18</td><td>0.0</td><td>30</td><td>\\N</td><td>null</td><td>30</td><td>19</td><td>1:28.485</td><td>199.721</td><td>4</td><td>2025-08-10T06:44:58.28Z</td><td></td><td>2021-04-18</td></tr><tr><td>25004</td><td>1053</td><td>847</td><td>3</td><td>63</td><td>12</td><td>null</td><td>R</td><td>19</td><td>0.0</td><td>30</td><td>\\N</td><td>null</td><td>28</td><td>18</td><td>1:26.543</td><td>204.203</td><td>4</td><td>2025-08-10T06:44:58.28Z</td><td></td><td>2021-04-18</td></tr><tr><td>25005</td><td>1053</td><td>849</td><td>3</td><td>6</td><td>14</td><td>null</td><td>R</td><td>20</td><td>0.0</td><td>0</td><td>\\N</td><td>null</td><td>null</td><td>0</td><td>\\N</td><td>null</td><td>4</td><td>2025-08-10T06:44:58.28Z</td><td></td><td>2021-04-18</td></tr></tbody></table></div>"
      ]
     },
     "metadata": {
      "application/vnd.databricks.v1+output": {
       "addedWidgets": {},
       "aggData": [],
       "aggError": "",
       "aggOverflow": false,
       "aggSchema": [],
       "aggSeriesLimitReached": false,
       "aggType": "",
       "arguments": {},
       "columnCustomDisplayInfos": {},
       "data": [
        [
         24986,
         1053,
         830,
         9,
         33,
         3,
         1,
         "1",
         1,
         25.0,
         63,
         "2:02:34.598",
         7354598,
         60,
         2,
         "1:17.524",
         227.96,
         1,
         "2025-08-10T06:44:58.28Z",
         "",
         "2021-04-18"
        ],
        [
         24987,
         1053,
         1,
         131,
         44,
         1,
         2,
         "2",
         2,
         19.0,
         63,
         "+22.000",
         7376598,
         60,
         1,
         "1:16.702",
         230.403,
         1,
         "2025-08-10T06:44:58.28Z",
         "",
         "2021-04-18"
        ],
        [
         24988,
         1053,
         846,
         1,
         4,
         7,
         3,
         "3",
         3,
         15.0,
         63,
         "+23.702",
         7378300,
         63,
         3,
         "1:18.259",
         225.819,
         1,
         "2025-08-10T06:44:58.28Z",
         "",
         "2021-04-18"
        ],
        [
         24989,
         1053,
         844,
         6,
         16,
         4,
         4,
         "4",
         4,
         12.0,
         63,
         "+25.579",
         7380177,
         60,
         6,
         "1:18.379",
         225.473,
         1,
         "2025-08-10T06:44:58.28Z",
         "",
         "2021-04-18"
        ],
        [
         24990,
         1053,
         832,
         6,
         55,
         11,
         5,
         "5",
         5,
         10.0,
         63,
         "+27.036",
         7381634,
         60,
         7,
         "1:18.490",
         225.154,
         1,
         "2025-08-10T06:44:58.28Z",
         "",
         "2021-04-18"
        ],
        [
         24991,
         1053,
         817,
         1,
         3,
         6,
         6,
         "6",
         6,
         8.0,
         63,
         "+51.220",
         7405818,
         54,
         12,
         "1:19.341",
         222.739,
         1,
         "2025-08-10T06:44:58.28Z",
         "",
         "2021-04-18"
        ],
        [
         24992,
         1053,
         842,
         213,
         10,
         5,
         7,
         "7",
         7,
         6.0,
         63,
         "+52.818",
         7407416,
         52,
         9,
         "1:18.994",
         223.718,
         1,
         "2025-08-10T06:44:58.28Z",
         "",
         "2021-04-18"
        ],
        [
         24993,
         1053,
         840,
         117,
         18,
         10,
         8,
         "8",
         8,
         4.0,
         63,
         "+56.909",
         7411507,
         59,
         8,
         "1:18.782",
         224.32,
         1,
         "2025-08-10T06:44:58.28Z",
         "",
         "2021-04-18"
        ],
        [
         24994,
         1053,
         839,
         214,
         31,
         9,
         9,
         "9",
         9,
         2.0,
         63,
         "+65.704",
         7420302,
         62,
         15,
         "1:19.422",
         222.512,
         1,
         "2025-08-10T06:44:58.28Z",
         "",
         "2021-04-18"
        ],
        [
         24995,
         1053,
         4,
         214,
         14,
         15,
         10,
         "10",
         10,
         1.0,
         63,
         "+66.561",
         7421159,
         62,
         14,
         "1:19.417",
         222.526,
         1,
         "2025-08-10T06:44:58.28Z",
         "",
         "2021-04-18"
        ],
        [
         24996,
         1053,
         815,
         9,
         11,
         2,
         11,
         "11",
         11,
         0.0,
         63,
         "+67.151",
         7421749,
         62,
         13,
         "1:19.396",
         222.585,
         1,
         "2025-08-10T06:44:58.28Z",
         "",
         "2021-04-18"
        ],
        [
         24997,
         1053,
         852,
         213,
         22,
         20,
         12,
         "12",
         12,
         0.0,
         63,
         "+73.184",
         7427782,
         49,
         4,
         "1:18.334",
         225.603,
         1,
         "2025-08-10T06:44:58.28Z",
         "",
         "2021-04-18"
        ],
        [
         24998,
         1053,
         8,
         51,
         7,
         16,
         13,
         "13",
         13,
         0.0,
         63,
         "+94.773",
         7449371,
         62,
         5,
         "1:18.353",
         225.548,
         1,
         "2025-08-10T06:44:58.28Z",
         "",
         "2021-04-18"
        ],
        [
         24999,
         1053,
         841,
         51,
         99,
         17,
         14,
         "14",
         14,
         0.0,
         62,
         "\\N",
         null,
         57,
         16,
         "1:19.470",
         222.378,
         11,
         "2025-08-10T06:44:58.28Z",
         "",
         "2021-04-18"
        ],
        [
         25000,
         1053,
         20,
         117,
         5,
         0,
         15,
         "15",
         15,
         0.0,
         61,
         "\\N",
         null,
         59,
         10,
         "1:19.074",
         223.491,
         6,
         "2025-08-10T06:44:58.28Z",
         "",
         "2021-04-18"
        ],
        [
         25001,
         1053,
         854,
         210,
         47,
         18,
         16,
         "16",
         16,
         0.0,
         61,
         "\\N",
         null,
         58,
         11,
         "1:19.193",
         223.156,
         12,
         "2025-08-10T06:44:58.28Z",
         "",
         "2021-04-18"
        ],
        [
         25002,
         1053,
         853,
         210,
         9,
         19,
         17,
         "17",
         17,
         0.0,
         61,
         "\\N",
         null,
         55,
         17,
         "1:20.402",
         219.8,
         12,
         "2025-08-10T06:44:58.28Z",
         "",
         "2021-04-18"
        ],
        [
         25003,
         1053,
         822,
         131,
         77,
         8,
         null,
         "R",
         18,
         0.0,
         30,
         "\\N",
         null,
         30,
         19,
         "1:28.485",
         199.721,
         4,
         "2025-08-10T06:44:58.28Z",
         "",
         "2021-04-18"
        ],
        [
         25004,
         1053,
         847,
         3,
         63,
         12,
         null,
         "R",
         19,
         0.0,
         30,
         "\\N",
         null,
         28,
         18,
         "1:26.543",
         204.203,
         4,
         "2025-08-10T06:44:58.28Z",
         "",
         "2021-04-18"
        ],
        [
         25005,
         1053,
         849,
         3,
         6,
         14,
         null,
         "R",
         20,
         0.0,
         0,
         "\\N",
         null,
         null,
         0,
         "\\N",
         null,
         4,
         "2025-08-10T06:44:58.28Z",
         "",
         "2021-04-18"
        ]
       ],
       "datasetInfos": [],
       "dbfsResultPath": null,
       "isJsonSchema": true,
       "metadata": {},
       "overflow": false,
       "plotOptions": {
        "customPlotOptions": {},
        "displayType": "table",
        "pivotAggregation": null,
        "pivotColumns": null,
        "xColumns": null,
        "yColumns": null
       },
       "removedWidgets": [],
       "schema": [
        {
         "metadata": "{}",
         "name": "result_id",
         "type": "\"integer\""
        },
        {
         "metadata": "{}",
         "name": "race_id",
         "type": "\"integer\""
        },
        {
         "metadata": "{}",
         "name": "driver_id",
         "type": "\"integer\""
        },
        {
         "metadata": "{}",
         "name": "constructor_id",
         "type": "\"integer\""
        },
        {
         "metadata": "{}",
         "name": "number",
         "type": "\"integer\""
        },
        {
         "metadata": "{}",
         "name": "grid",
         "type": "\"integer\""
        },
        {
         "metadata": "{}",
         "name": "position",
         "type": "\"integer\""
        },
        {
         "metadata": "{}",
         "name": "position_text",
         "type": "\"string\""
        },
        {
         "metadata": "{}",
         "name": "position_order",
         "type": "\"integer\""
        },
        {
         "metadata": "{}",
         "name": "points",
         "type": "\"float\""
        },
        {
         "metadata": "{}",
         "name": "laps",
         "type": "\"integer\""
        },
        {
         "metadata": "{}",
         "name": "time",
         "type": "\"string\""
        },
        {
         "metadata": "{}",
         "name": "milliseconds",
         "type": "\"integer\""
        },
        {
         "metadata": "{}",
         "name": "fastest_lap",
         "type": "\"integer\""
        },
        {
         "metadata": "{}",
         "name": "rank",
         "type": "\"integer\""
        },
        {
         "metadata": "{}",
         "name": "fastest_lap_time",
         "type": "\"string\""
        },
        {
         "metadata": "{}",
         "name": "fastest_lap_speed",
         "type": "\"double\""
        },
        {
         "metadata": "{}",
         "name": "status_id",
         "type": "\"integer\""
        },
        {
         "metadata": "{}",
         "name": "ingestion_date",
         "type": "\"timestamp\""
        },
        {
         "metadata": "{}",
         "name": "data_source",
         "type": "\"string\""
        },
        {
         "metadata": "{}",
         "name": "file_date",
         "type": "\"string\""
        }
       ],
       "type": "table"
      }
     },
     "output_type": "display_data"
    }
   ],
   "source": [
    "results_renamed_df = results_df \\\n",
    "                     .withColumnRenamed(\"resultId\", \"result_id\") \\\n",
    "                     .withColumnRenamed(\"raceId\", \"race_id\") \\\n",
    "                     .withColumnRenamed(\"driverId\", \"driver_id\") \\\n",
    "                     .withColumnRenamed(\"constructorId\", \"constructor_id\") \\\n",
    "                     .withColumnRenamed(\"positionText\", \"position_text\") \\\n",
    "                     .withColumnRenamed(\"positionOrder\", \"position_order\") \\\n",
    "                     .withColumnRenamed(\"fastestLap\", \"fastest_lap\") \\\n",
    "                     .withColumnRenamed(\"fastestLapTime\", \"fastest_lap_time\") \\\n",
    "                     .withColumnRenamed(\"fastestLapSpeed\", \"fastest_lap_speed\") \\\n",
    "                     .withColumnRenamed(\"statusId\", \"status_id\") \\\n",
    "                     .withColumn(\"ingestion_date\", current_timestamp()) \\\n",
    "                     .withColumn(\"data_source\", lit(v_data_source)) \\\n",
    "                     .withColumn(\"file_date\", lit(v_file_date))\n",
    "display(results_renamed_df)"
   ]
  },
  {
   "cell_type": "code",
   "execution_count": 0,
   "metadata": {
    "application/vnd.databricks.v1+cell": {
     "cellMetadata": {
      "byteLimit": 2048000,
      "rowLimit": 10000
     },
     "inputWidgets": {},
     "nuid": "3eca6c86-4308-42f1-a220-485a093de1a4",
     "showTitle": false,
     "tableResultSettingsMap": {
      "0": {
       "dataGridStateBlob": "{\"version\":1,\"tableState\":{\"columnPinning\":{\"left\":[\"#row_number#\"],\"right\":[]},\"columnSizing\":{},\"columnVisibility\":{}},\"settings\":{\"columns\":{}},\"syncTimestamp\":1752972194414}",
       "filterBlob": null,
       "queryPlanFiltersBlob": null,
       "tableResultIndex": 0
      }
     },
     "title": ""
    }
   },
   "outputs": [
    {
     "output_type": "display_data",
     "data": {
      "text/html": [
       "<style scoped>\n",
       "  .table-result-container {\n",
       "    max-height: 300px;\n",
       "    overflow: auto;\n",
       "  }\n",
       "  table, th, td {\n",
       "    border: 1px solid black;\n",
       "    border-collapse: collapse;\n",
       "  }\n",
       "  th, td {\n",
       "    padding: 5px;\n",
       "  }\n",
       "  th {\n",
       "    text-align: left;\n",
       "  }\n",
       "</style><div class='table-result-container'><table class='table-result'><thead style='background-color: white'><tr><th>result_id</th><th>race_id</th><th>driver_id</th><th>constructor_id</th><th>number</th><th>grid</th><th>position</th><th>position_text</th><th>position_order</th><th>points</th><th>laps</th><th>time</th><th>milliseconds</th><th>fastest_lap</th><th>rank</th><th>fastest_lap_time</th><th>fastest_lap_speed</th><th>ingestion_date</th><th>data_source</th><th>file_date</th></tr></thead><tbody><tr><td>24986</td><td>1053</td><td>830</td><td>9</td><td>33</td><td>3</td><td>1</td><td>1</td><td>1</td><td>25.0</td><td>63</td><td>2:02:34.598</td><td>7354598</td><td>60</td><td>2</td><td>1:17.524</td><td>227.96</td><td>2025-08-10T06:44:58.51Z</td><td></td><td>2021-04-18</td></tr><tr><td>24987</td><td>1053</td><td>1</td><td>131</td><td>44</td><td>1</td><td>2</td><td>2</td><td>2</td><td>19.0</td><td>63</td><td>+22.000</td><td>7376598</td><td>60</td><td>1</td><td>1:16.702</td><td>230.403</td><td>2025-08-10T06:44:58.51Z</td><td></td><td>2021-04-18</td></tr><tr><td>24988</td><td>1053</td><td>846</td><td>1</td><td>4</td><td>7</td><td>3</td><td>3</td><td>3</td><td>15.0</td><td>63</td><td>+23.702</td><td>7378300</td><td>63</td><td>3</td><td>1:18.259</td><td>225.819</td><td>2025-08-10T06:44:58.51Z</td><td></td><td>2021-04-18</td></tr><tr><td>24989</td><td>1053</td><td>844</td><td>6</td><td>16</td><td>4</td><td>4</td><td>4</td><td>4</td><td>12.0</td><td>63</td><td>+25.579</td><td>7380177</td><td>60</td><td>6</td><td>1:18.379</td><td>225.473</td><td>2025-08-10T06:44:58.51Z</td><td></td><td>2021-04-18</td></tr><tr><td>24990</td><td>1053</td><td>832</td><td>6</td><td>55</td><td>11</td><td>5</td><td>5</td><td>5</td><td>10.0</td><td>63</td><td>+27.036</td><td>7381634</td><td>60</td><td>7</td><td>1:18.490</td><td>225.154</td><td>2025-08-10T06:44:58.51Z</td><td></td><td>2021-04-18</td></tr><tr><td>24991</td><td>1053</td><td>817</td><td>1</td><td>3</td><td>6</td><td>6</td><td>6</td><td>6</td><td>8.0</td><td>63</td><td>+51.220</td><td>7405818</td><td>54</td><td>12</td><td>1:19.341</td><td>222.739</td><td>2025-08-10T06:44:58.51Z</td><td></td><td>2021-04-18</td></tr><tr><td>24992</td><td>1053</td><td>842</td><td>213</td><td>10</td><td>5</td><td>7</td><td>7</td><td>7</td><td>6.0</td><td>63</td><td>+52.818</td><td>7407416</td><td>52</td><td>9</td><td>1:18.994</td><td>223.718</td><td>2025-08-10T06:44:58.51Z</td><td></td><td>2021-04-18</td></tr><tr><td>24993</td><td>1053</td><td>840</td><td>117</td><td>18</td><td>10</td><td>8</td><td>8</td><td>8</td><td>4.0</td><td>63</td><td>+56.909</td><td>7411507</td><td>59</td><td>8</td><td>1:18.782</td><td>224.32</td><td>2025-08-10T06:44:58.51Z</td><td></td><td>2021-04-18</td></tr><tr><td>24994</td><td>1053</td><td>839</td><td>214</td><td>31</td><td>9</td><td>9</td><td>9</td><td>9</td><td>2.0</td><td>63</td><td>+65.704</td><td>7420302</td><td>62</td><td>15</td><td>1:19.422</td><td>222.512</td><td>2025-08-10T06:44:58.51Z</td><td></td><td>2021-04-18</td></tr><tr><td>24995</td><td>1053</td><td>4</td><td>214</td><td>14</td><td>15</td><td>10</td><td>10</td><td>10</td><td>1.0</td><td>63</td><td>+66.561</td><td>7421159</td><td>62</td><td>14</td><td>1:19.417</td><td>222.526</td><td>2025-08-10T06:44:58.51Z</td><td></td><td>2021-04-18</td></tr><tr><td>24996</td><td>1053</td><td>815</td><td>9</td><td>11</td><td>2</td><td>11</td><td>11</td><td>11</td><td>0.0</td><td>63</td><td>+67.151</td><td>7421749</td><td>62</td><td>13</td><td>1:19.396</td><td>222.585</td><td>2025-08-10T06:44:58.51Z</td><td></td><td>2021-04-18</td></tr><tr><td>24997</td><td>1053</td><td>852</td><td>213</td><td>22</td><td>20</td><td>12</td><td>12</td><td>12</td><td>0.0</td><td>63</td><td>+73.184</td><td>7427782</td><td>49</td><td>4</td><td>1:18.334</td><td>225.603</td><td>2025-08-10T06:44:58.51Z</td><td></td><td>2021-04-18</td></tr><tr><td>24998</td><td>1053</td><td>8</td><td>51</td><td>7</td><td>16</td><td>13</td><td>13</td><td>13</td><td>0.0</td><td>63</td><td>+94.773</td><td>7449371</td><td>62</td><td>5</td><td>1:18.353</td><td>225.548</td><td>2025-08-10T06:44:58.51Z</td><td></td><td>2021-04-18</td></tr><tr><td>24999</td><td>1053</td><td>841</td><td>51</td><td>99</td><td>17</td><td>14</td><td>14</td><td>14</td><td>0.0</td><td>62</td><td>\\N</td><td>null</td><td>57</td><td>16</td><td>1:19.470</td><td>222.378</td><td>2025-08-10T06:44:58.51Z</td><td></td><td>2021-04-18</td></tr><tr><td>25000</td><td>1053</td><td>20</td><td>117</td><td>5</td><td>0</td><td>15</td><td>15</td><td>15</td><td>0.0</td><td>61</td><td>\\N</td><td>null</td><td>59</td><td>10</td><td>1:19.074</td><td>223.491</td><td>2025-08-10T06:44:58.51Z</td><td></td><td>2021-04-18</td></tr><tr><td>25001</td><td>1053</td><td>854</td><td>210</td><td>47</td><td>18</td><td>16</td><td>16</td><td>16</td><td>0.0</td><td>61</td><td>\\N</td><td>null</td><td>58</td><td>11</td><td>1:19.193</td><td>223.156</td><td>2025-08-10T06:44:58.51Z</td><td></td><td>2021-04-18</td></tr><tr><td>25002</td><td>1053</td><td>853</td><td>210</td><td>9</td><td>19</td><td>17</td><td>17</td><td>17</td><td>0.0</td><td>61</td><td>\\N</td><td>null</td><td>55</td><td>17</td><td>1:20.402</td><td>219.8</td><td>2025-08-10T06:44:58.51Z</td><td></td><td>2021-04-18</td></tr><tr><td>25003</td><td>1053</td><td>822</td><td>131</td><td>77</td><td>8</td><td>null</td><td>R</td><td>18</td><td>0.0</td><td>30</td><td>\\N</td><td>null</td><td>30</td><td>19</td><td>1:28.485</td><td>199.721</td><td>2025-08-10T06:44:58.51Z</td><td></td><td>2021-04-18</td></tr><tr><td>25004</td><td>1053</td><td>847</td><td>3</td><td>63</td><td>12</td><td>null</td><td>R</td><td>19</td><td>0.0</td><td>30</td><td>\\N</td><td>null</td><td>28</td><td>18</td><td>1:26.543</td><td>204.203</td><td>2025-08-10T06:44:58.51Z</td><td></td><td>2021-04-18</td></tr><tr><td>25005</td><td>1053</td><td>849</td><td>3</td><td>6</td><td>14</td><td>null</td><td>R</td><td>20</td><td>0.0</td><td>0</td><td>\\N</td><td>null</td><td>null</td><td>0</td><td>\\N</td><td>null</td><td>2025-08-10T06:44:58.51Z</td><td></td><td>2021-04-18</td></tr></tbody></table></div>"
      ]
     },
     "metadata": {
      "application/vnd.databricks.v1+output": {
       "addedWidgets": {},
       "aggData": [],
       "aggError": "",
       "aggOverflow": false,
       "aggSchema": [],
       "aggSeriesLimitReached": false,
       "aggType": "",
       "arguments": {},
       "columnCustomDisplayInfos": {},
       "data": [
        [
         24986,
         1053,
         830,
         9,
         33,
         3,
         1,
         "1",
         1,
         25.0,
         63,
         "2:02:34.598",
         7354598,
         60,
         2,
         "1:17.524",
         227.96,
         "2025-08-10T06:44:58.51Z",
         "",
         "2021-04-18"
        ],
        [
         24987,
         1053,
         1,
         131,
         44,
         1,
         2,
         "2",
         2,
         19.0,
         63,
         "+22.000",
         7376598,
         60,
         1,
         "1:16.702",
         230.403,
         "2025-08-10T06:44:58.51Z",
         "",
         "2021-04-18"
        ],
        [
         24988,
         1053,
         846,
         1,
         4,
         7,
         3,
         "3",
         3,
         15.0,
         63,
         "+23.702",
         7378300,
         63,
         3,
         "1:18.259",
         225.819,
         "2025-08-10T06:44:58.51Z",
         "",
         "2021-04-18"
        ],
        [
         24989,
         1053,
         844,
         6,
         16,
         4,
         4,
         "4",
         4,
         12.0,
         63,
         "+25.579",
         7380177,
         60,
         6,
         "1:18.379",
         225.473,
         "2025-08-10T06:44:58.51Z",
         "",
         "2021-04-18"
        ],
        [
         24990,
         1053,
         832,
         6,
         55,
         11,
         5,
         "5",
         5,
         10.0,
         63,
         "+27.036",
         7381634,
         60,
         7,
         "1:18.490",
         225.154,
         "2025-08-10T06:44:58.51Z",
         "",
         "2021-04-18"
        ],
        [
         24991,
         1053,
         817,
         1,
         3,
         6,
         6,
         "6",
         6,
         8.0,
         63,
         "+51.220",
         7405818,
         54,
         12,
         "1:19.341",
         222.739,
         "2025-08-10T06:44:58.51Z",
         "",
         "2021-04-18"
        ],
        [
         24992,
         1053,
         842,
         213,
         10,
         5,
         7,
         "7",
         7,
         6.0,
         63,
         "+52.818",
         7407416,
         52,
         9,
         "1:18.994",
         223.718,
         "2025-08-10T06:44:58.51Z",
         "",
         "2021-04-18"
        ],
        [
         24993,
         1053,
         840,
         117,
         18,
         10,
         8,
         "8",
         8,
         4.0,
         63,
         "+56.909",
         7411507,
         59,
         8,
         "1:18.782",
         224.32,
         "2025-08-10T06:44:58.51Z",
         "",
         "2021-04-18"
        ],
        [
         24994,
         1053,
         839,
         214,
         31,
         9,
         9,
         "9",
         9,
         2.0,
         63,
         "+65.704",
         7420302,
         62,
         15,
         "1:19.422",
         222.512,
         "2025-08-10T06:44:58.51Z",
         "",
         "2021-04-18"
        ],
        [
         24995,
         1053,
         4,
         214,
         14,
         15,
         10,
         "10",
         10,
         1.0,
         63,
         "+66.561",
         7421159,
         62,
         14,
         "1:19.417",
         222.526,
         "2025-08-10T06:44:58.51Z",
         "",
         "2021-04-18"
        ],
        [
         24996,
         1053,
         815,
         9,
         11,
         2,
         11,
         "11",
         11,
         0.0,
         63,
         "+67.151",
         7421749,
         62,
         13,
         "1:19.396",
         222.585,
         "2025-08-10T06:44:58.51Z",
         "",
         "2021-04-18"
        ],
        [
         24997,
         1053,
         852,
         213,
         22,
         20,
         12,
         "12",
         12,
         0.0,
         63,
         "+73.184",
         7427782,
         49,
         4,
         "1:18.334",
         225.603,
         "2025-08-10T06:44:58.51Z",
         "",
         "2021-04-18"
        ],
        [
         24998,
         1053,
         8,
         51,
         7,
         16,
         13,
         "13",
         13,
         0.0,
         63,
         "+94.773",
         7449371,
         62,
         5,
         "1:18.353",
         225.548,
         "2025-08-10T06:44:58.51Z",
         "",
         "2021-04-18"
        ],
        [
         24999,
         1053,
         841,
         51,
         99,
         17,
         14,
         "14",
         14,
         0.0,
         62,
         "\\N",
         null,
         57,
         16,
         "1:19.470",
         222.378,
         "2025-08-10T06:44:58.51Z",
         "",
         "2021-04-18"
        ],
        [
         25000,
         1053,
         20,
         117,
         5,
         0,
         15,
         "15",
         15,
         0.0,
         61,
         "\\N",
         null,
         59,
         10,
         "1:19.074",
         223.491,
         "2025-08-10T06:44:58.51Z",
         "",
         "2021-04-18"
        ],
        [
         25001,
         1053,
         854,
         210,
         47,
         18,
         16,
         "16",
         16,
         0.0,
         61,
         "\\N",
         null,
         58,
         11,
         "1:19.193",
         223.156,
         "2025-08-10T06:44:58.51Z",
         "",
         "2021-04-18"
        ],
        [
         25002,
         1053,
         853,
         210,
         9,
         19,
         17,
         "17",
         17,
         0.0,
         61,
         "\\N",
         null,
         55,
         17,
         "1:20.402",
         219.8,
         "2025-08-10T06:44:58.51Z",
         "",
         "2021-04-18"
        ],
        [
         25003,
         1053,
         822,
         131,
         77,
         8,
         null,
         "R",
         18,
         0.0,
         30,
         "\\N",
         null,
         30,
         19,
         "1:28.485",
         199.721,
         "2025-08-10T06:44:58.51Z",
         "",
         "2021-04-18"
        ],
        [
         25004,
         1053,
         847,
         3,
         63,
         12,
         null,
         "R",
         19,
         0.0,
         30,
         "\\N",
         null,
         28,
         18,
         "1:26.543",
         204.203,
         "2025-08-10T06:44:58.51Z",
         "",
         "2021-04-18"
        ],
        [
         25005,
         1053,
         849,
         3,
         6,
         14,
         null,
         "R",
         20,
         0.0,
         0,
         "\\N",
         null,
         null,
         0,
         "\\N",
         null,
         "2025-08-10T06:44:58.51Z",
         "",
         "2021-04-18"
        ]
       ],
       "datasetInfos": [],
       "dbfsResultPath": null,
       "isJsonSchema": true,
       "metadata": {},
       "overflow": false,
       "plotOptions": {
        "customPlotOptions": {},
        "displayType": "table",
        "pivotAggregation": null,
        "pivotColumns": null,
        "xColumns": null,
        "yColumns": null
       },
       "removedWidgets": [],
       "schema": [
        {
         "metadata": "{}",
         "name": "result_id",
         "type": "\"integer\""
        },
        {
         "metadata": "{}",
         "name": "race_id",
         "type": "\"integer\""
        },
        {
         "metadata": "{}",
         "name": "driver_id",
         "type": "\"integer\""
        },
        {
         "metadata": "{}",
         "name": "constructor_id",
         "type": "\"integer\""
        },
        {
         "metadata": "{}",
         "name": "number",
         "type": "\"integer\""
        },
        {
         "metadata": "{}",
         "name": "grid",
         "type": "\"integer\""
        },
        {
         "metadata": "{}",
         "name": "position",
         "type": "\"integer\""
        },
        {
         "metadata": "{}",
         "name": "position_text",
         "type": "\"string\""
        },
        {
         "metadata": "{}",
         "name": "position_order",
         "type": "\"integer\""
        },
        {
         "metadata": "{}",
         "name": "points",
         "type": "\"float\""
        },
        {
         "metadata": "{}",
         "name": "laps",
         "type": "\"integer\""
        },
        {
         "metadata": "{}",
         "name": "time",
         "type": "\"string\""
        },
        {
         "metadata": "{}",
         "name": "milliseconds",
         "type": "\"integer\""
        },
        {
         "metadata": "{}",
         "name": "fastest_lap",
         "type": "\"integer\""
        },
        {
         "metadata": "{}",
         "name": "rank",
         "type": "\"integer\""
        },
        {
         "metadata": "{}",
         "name": "fastest_lap_time",
         "type": "\"string\""
        },
        {
         "metadata": "{}",
         "name": "fastest_lap_speed",
         "type": "\"double\""
        },
        {
         "metadata": "{}",
         "name": "ingestion_date",
         "type": "\"timestamp\""
        },
        {
         "metadata": "{}",
         "name": "data_source",
         "type": "\"string\""
        },
        {
         "metadata": "{}",
         "name": "file_date",
         "type": "\"string\""
        }
       ],
       "type": "table"
      }
     },
     "output_type": "display_data"
    }
   ],
   "source": [
    "\n",
    "results_final_df = results_renamed_df \\\n",
    "                   .drop(\"status_id\")\n",
    "display(results_final_df)"
   ]
  },
  {
   "cell_type": "markdown",
   "metadata": {
    "application/vnd.databricks.v1+cell": {
     "cellMetadata": {
      "byteLimit": 2048000,
      "rowLimit": 10000
     },
     "inputWidgets": {},
     "nuid": "fa8403d9-f4d0-4960-8107-388a008508d2",
     "showTitle": false,
     "tableResultSettingsMap": {},
     "title": ""
    }
   },
   "source": [
    "#####\n",
    "write the file as parquet to cleaned and processed container"
   ]
  },
  {
   "cell_type": "markdown",
   "metadata": {
    "application/vnd.databricks.v1+cell": {
     "cellMetadata": {
      "byteLimit": 2048000,
      "rowLimit": 10000
     },
     "inputWidgets": {},
     "nuid": "b601f89c-25b7-44f6-8974-7eb4cfe02950",
     "showTitle": false,
     "tableResultSettingsMap": {},
     "title": ""
    }
   },
   "source": [
    "######method 1"
   ]
  },
  {
   "cell_type": "code",
   "execution_count": 0,
   "metadata": {
    "application/vnd.databricks.v1+cell": {
     "cellMetadata": {
      "byteLimit": 2048000,
      "rowLimit": 10000
     },
     "inputWidgets": {},
     "nuid": "e88d38a6-c67e-4030-a4a8-2f3421cd0ae6",
     "showTitle": false,
     "tableResultSettingsMap": {},
     "title": ""
    }
   },
   "outputs": [],
   "source": [
    "#for race_id_list in results_final_df.select(\"race_id\").distinct().collect():\n",
    "   # if (spark._jsparkSession.catalog().tableExists(\"f1_processed.results\")):\n",
    "        #spark.sql(f\"DELETE FROM f1_processed.results WHERE race_id = {race_id_list.race_id}\")\n",
    "\n",
    "        # very slow but can be improved interms of performance"
   ]
  },
  {
   "cell_type": "markdown",
   "metadata": {
    "application/vnd.databricks.v1+cell": {
     "cellMetadata": {
      "byteLimit": 2048000,
      "rowLimit": 10000
     },
     "inputWidgets": {},
     "nuid": "dcdccb49-dd00-4609-b007-47d826a65fa4",
     "showTitle": false,
     "tableResultSettingsMap": {},
     "title": ""
    }
   },
   "source": [
    "#####method 2"
   ]
  },
  {
   "cell_type": "code",
   "execution_count": 0,
   "metadata": {
    "application/vnd.databricks.v1+cell": {
     "cellMetadata": {
      "byteLimit": 2048000,
      "rowLimit": 10000
     },
     "inputWidgets": {},
     "nuid": "df83822e-45f1-4497-b52c-4b51e372be9f",
     "showTitle": false,
     "tableResultSettingsMap": {},
     "title": ""
    }
   },
   "outputs": [],
   "source": [
    "spark.conf.set(\"spark.sql.sources.partitionOverwriteMode\", \"dynamic\")"
   ]
  },
  {
   "cell_type": "code",
   "execution_count": 0,
   "metadata": {
    "application/vnd.databricks.v1+cell": {
     "cellMetadata": {
      "byteLimit": 2048000,
      "rowLimit": 10000
     },
     "inputWidgets": {},
     "nuid": "66a3fe85-2407-4d7c-8d57-197a953beecb",
     "showTitle": false,
     "tableResultSettingsMap": {},
     "title": ""
    }
   },
   "outputs": [],
   "source": [
    "results_final_df = results_final_df.select(\"result_id\", \"race_id\", \"driver_id\", \"constructor_id\", \"number\", \"grid\", \"position\", \"position_text\", \"position_order\", \"points\", \"laps\", \"time\", \"milliseconds\", \"fastest_lap\", \"fastest_lap_time\", \"fastest_lap_speed\", \"ingestion_date\", \"data_source\", \"file_date\")\n"
   ]
  },
  {
   "cell_type": "code",
   "execution_count": 0,
   "metadata": {
    "application/vnd.databricks.v1+cell": {
     "cellMetadata": {
      "byteLimit": 2048000,
      "rowLimit": 10000
     },
     "inputWidgets": {},
     "nuid": "654b84e3-a5cc-42f3-892e-fdac3065fe66",
     "showTitle": false,
     "tableResultSettingsMap": {},
     "title": ""
    }
   },
   "outputs": [
    {
     "output_type": "display_data",
     "data": {
      "text/plain": [
       "\u001B[0;31m---------------------------------------------------------------------------\u001B[0m\n",
       "\u001B[0;31mNumberFormatException\u001B[0m                     Traceback (most recent call last)\n",
       "File \u001B[0;32m<command-4995747289430837>, line 2\u001B[0m\n",
       "\u001B[1;32m      1\u001B[0m \u001B[38;5;28;01mif\u001B[39;00m (spark\u001B[38;5;241m.\u001B[39m_jsparkSession\u001B[38;5;241m.\u001B[39mcatalog()\u001B[38;5;241m.\u001B[39mtableExists(\u001B[38;5;124m\"\u001B[39m\u001B[38;5;124mf1_processed.results\u001B[39m\u001B[38;5;124m\"\u001B[39m)):\n",
       "\u001B[0;32m----> 2\u001B[0m     \u001B[43mresults_final_df\u001B[49m\u001B[38;5;241;43m.\u001B[39;49m\u001B[43mwrite\u001B[49m\u001B[38;5;241;43m.\u001B[39;49m\u001B[43mmode\u001B[49m\u001B[43m(\u001B[49m\u001B[38;5;124;43m\"\u001B[39;49m\u001B[38;5;124;43moverwrite\u001B[39;49m\u001B[38;5;124;43m\"\u001B[39;49m\u001B[43m)\u001B[49m\u001B[38;5;241;43m.\u001B[39;49m\u001B[43minsertInto\u001B[49m\u001B[43m(\u001B[49m\u001B[38;5;124;43m\"\u001B[39;49m\u001B[38;5;124;43mf1_processed.results\u001B[39;49m\u001B[38;5;124;43m\"\u001B[39;49m\u001B[43m)\u001B[49m\n",
       "\u001B[1;32m      3\u001B[0m \u001B[38;5;28;01melse\u001B[39;00m:\n",
       "\u001B[1;32m      4\u001B[0m     results_final_df\u001B[38;5;241m.\u001B[39mwrite\u001B[38;5;241m.\u001B[39mmode(\u001B[38;5;124m\"\u001B[39m\u001B[38;5;124moverwrite\u001B[39m\u001B[38;5;124m\"\u001B[39m)\u001B[38;5;241m.\u001B[39mformat(\u001B[38;5;124m\"\u001B[39m\u001B[38;5;124mparquet\u001B[39m\u001B[38;5;124m\"\u001B[39m)\u001B[38;5;241m.\u001B[39msaveAsTable(\u001B[38;5;124m\"\u001B[39m\u001B[38;5;124mf1_processed.results\u001B[39m\u001B[38;5;124m\"\u001B[39m)\n",
       "\n",
       "File \u001B[0;32m/databricks/spark/python/pyspark/instrumentation_utils.py:48\u001B[0m, in \u001B[0;36m_wrap_function.<locals>.wrapper\u001B[0;34m(*args, **kwargs)\u001B[0m\n",
       "\u001B[1;32m     46\u001B[0m start \u001B[38;5;241m=\u001B[39m time\u001B[38;5;241m.\u001B[39mperf_counter()\n",
       "\u001B[1;32m     47\u001B[0m \u001B[38;5;28;01mtry\u001B[39;00m:\n",
       "\u001B[0;32m---> 48\u001B[0m     res \u001B[38;5;241m=\u001B[39m \u001B[43mfunc\u001B[49m\u001B[43m(\u001B[49m\u001B[38;5;241;43m*\u001B[39;49m\u001B[43margs\u001B[49m\u001B[43m,\u001B[49m\u001B[43m \u001B[49m\u001B[38;5;241;43m*\u001B[39;49m\u001B[38;5;241;43m*\u001B[39;49m\u001B[43mkwargs\u001B[49m\u001B[43m)\u001B[49m\n",
       "\u001B[1;32m     49\u001B[0m     logger\u001B[38;5;241m.\u001B[39mlog_success(\n",
       "\u001B[1;32m     50\u001B[0m         module_name, class_name, function_name, time\u001B[38;5;241m.\u001B[39mperf_counter() \u001B[38;5;241m-\u001B[39m start, signature\n",
       "\u001B[1;32m     51\u001B[0m     )\n",
       "\u001B[1;32m     52\u001B[0m     \u001B[38;5;28;01mreturn\u001B[39;00m res\n",
       "\n",
       "File \u001B[0;32m/databricks/spark/python/pyspark/sql/readwriter.py:1513\u001B[0m, in \u001B[0;36mDataFrameWriter.insertInto\u001B[0;34m(self, tableName, overwrite)\u001B[0m\n",
       "\u001B[1;32m   1511\u001B[0m \u001B[38;5;28;01mif\u001B[39;00m overwrite \u001B[38;5;129;01mis\u001B[39;00m \u001B[38;5;129;01mnot\u001B[39;00m \u001B[38;5;28;01mNone\u001B[39;00m:\n",
       "\u001B[1;32m   1512\u001B[0m     \u001B[38;5;28mself\u001B[39m\u001B[38;5;241m.\u001B[39mmode(\u001B[38;5;124m\"\u001B[39m\u001B[38;5;124moverwrite\u001B[39m\u001B[38;5;124m\"\u001B[39m \u001B[38;5;28;01mif\u001B[39;00m overwrite \u001B[38;5;28;01melse\u001B[39;00m \u001B[38;5;124m\"\u001B[39m\u001B[38;5;124mappend\u001B[39m\u001B[38;5;124m\"\u001B[39m)\n",
       "\u001B[0;32m-> 1513\u001B[0m \u001B[38;5;28;43mself\u001B[39;49m\u001B[38;5;241;43m.\u001B[39;49m\u001B[43m_jwrite\u001B[49m\u001B[38;5;241;43m.\u001B[39;49m\u001B[43minsertInto\u001B[49m\u001B[43m(\u001B[49m\u001B[43mtableName\u001B[49m\u001B[43m)\u001B[49m\n",
       "\n",
       "File \u001B[0;32m/databricks/spark/python/lib/py4j-0.10.9.7-src.zip/py4j/java_gateway.py:1355\u001B[0m, in \u001B[0;36mJavaMember.__call__\u001B[0;34m(self, *args)\u001B[0m\n",
       "\u001B[1;32m   1349\u001B[0m command \u001B[38;5;241m=\u001B[39m proto\u001B[38;5;241m.\u001B[39mCALL_COMMAND_NAME \u001B[38;5;241m+\u001B[39m\\\n",
       "\u001B[1;32m   1350\u001B[0m     \u001B[38;5;28mself\u001B[39m\u001B[38;5;241m.\u001B[39mcommand_header \u001B[38;5;241m+\u001B[39m\\\n",
       "\u001B[1;32m   1351\u001B[0m     args_command \u001B[38;5;241m+\u001B[39m\\\n",
       "\u001B[1;32m   1352\u001B[0m     proto\u001B[38;5;241m.\u001B[39mEND_COMMAND_PART\n",
       "\u001B[1;32m   1354\u001B[0m answer \u001B[38;5;241m=\u001B[39m \u001B[38;5;28mself\u001B[39m\u001B[38;5;241m.\u001B[39mgateway_client\u001B[38;5;241m.\u001B[39msend_command(command)\n",
       "\u001B[0;32m-> 1355\u001B[0m return_value \u001B[38;5;241m=\u001B[39m \u001B[43mget_return_value\u001B[49m\u001B[43m(\u001B[49m\n",
       "\u001B[1;32m   1356\u001B[0m \u001B[43m    \u001B[49m\u001B[43manswer\u001B[49m\u001B[43m,\u001B[49m\u001B[43m \u001B[49m\u001B[38;5;28;43mself\u001B[39;49m\u001B[38;5;241;43m.\u001B[39;49m\u001B[43mgateway_client\u001B[49m\u001B[43m,\u001B[49m\u001B[43m \u001B[49m\u001B[38;5;28;43mself\u001B[39;49m\u001B[38;5;241;43m.\u001B[39;49m\u001B[43mtarget_id\u001B[49m\u001B[43m,\u001B[49m\u001B[43m \u001B[49m\u001B[38;5;28;43mself\u001B[39;49m\u001B[38;5;241;43m.\u001B[39;49m\u001B[43mname\u001B[49m\u001B[43m)\u001B[49m\n",
       "\u001B[1;32m   1358\u001B[0m \u001B[38;5;28;01mfor\u001B[39;00m temp_arg \u001B[38;5;129;01min\u001B[39;00m temp_args:\n",
       "\u001B[1;32m   1359\u001B[0m     \u001B[38;5;28;01mif\u001B[39;00m \u001B[38;5;28mhasattr\u001B[39m(temp_arg, \u001B[38;5;124m\"\u001B[39m\u001B[38;5;124m_detach\u001B[39m\u001B[38;5;124m\"\u001B[39m):\n",
       "\n",
       "File \u001B[0;32m/databricks/spark/python/pyspark/errors/exceptions/captured.py:194\u001B[0m, in \u001B[0;36mcapture_sql_exception.<locals>.deco\u001B[0;34m(*a, **kw)\u001B[0m\n",
       "\u001B[1;32m    190\u001B[0m converted \u001B[38;5;241m=\u001B[39m convert_exception(e\u001B[38;5;241m.\u001B[39mjava_exception)\n",
       "\u001B[1;32m    191\u001B[0m \u001B[38;5;28;01mif\u001B[39;00m \u001B[38;5;129;01mnot\u001B[39;00m \u001B[38;5;28misinstance\u001B[39m(converted, UnknownException):\n",
       "\u001B[1;32m    192\u001B[0m     \u001B[38;5;66;03m# Hide where the exception came from that shows a non-Pythonic\u001B[39;00m\n",
       "\u001B[1;32m    193\u001B[0m     \u001B[38;5;66;03m# JVM exception message.\u001B[39;00m\n",
       "\u001B[0;32m--> 194\u001B[0m     \u001B[38;5;28;01mraise\u001B[39;00m converted \u001B[38;5;28;01mfrom\u001B[39;00m \u001B[38;5;28mNone\u001B[39m\n",
       "\u001B[1;32m    195\u001B[0m \u001B[38;5;28;01melse\u001B[39;00m:\n",
       "\u001B[1;32m    196\u001B[0m     \u001B[38;5;28;01mraise\u001B[39;00m\n",
       "\n",
       "\u001B[0;31mNumberFormatException\u001B[0m: [CAST_INVALID_INPUT] The value '' of the type \"STRING\" cannot be cast to \"INT\" because it is malformed. Correct the value as per the syntax, or change its target type. Use `try_cast` to tolerate malformed input and return NULL instead. If necessary set \"spark.sql.ansi.enabled\" to \"false\" to bypass this error."
      ]
     },
     "metadata": {
      "application/vnd.databricks.v1+output": {
       "arguments": {},
       "data": "\u001B[0;31m---------------------------------------------------------------------------\u001B[0m\n\u001B[0;31mNumberFormatException\u001B[0m                     Traceback (most recent call last)\nFile \u001B[0;32m<command-4995747289430837>, line 2\u001B[0m\n\u001B[1;32m      1\u001B[0m \u001B[38;5;28;01mif\u001B[39;00m (spark\u001B[38;5;241m.\u001B[39m_jsparkSession\u001B[38;5;241m.\u001B[39mcatalog()\u001B[38;5;241m.\u001B[39mtableExists(\u001B[38;5;124m\"\u001B[39m\u001B[38;5;124mf1_processed.results\u001B[39m\u001B[38;5;124m\"\u001B[39m)):\n\u001B[0;32m----> 2\u001B[0m     \u001B[43mresults_final_df\u001B[49m\u001B[38;5;241;43m.\u001B[39;49m\u001B[43mwrite\u001B[49m\u001B[38;5;241;43m.\u001B[39;49m\u001B[43mmode\u001B[49m\u001B[43m(\u001B[49m\u001B[38;5;124;43m\"\u001B[39;49m\u001B[38;5;124;43moverwrite\u001B[39;49m\u001B[38;5;124;43m\"\u001B[39;49m\u001B[43m)\u001B[49m\u001B[38;5;241;43m.\u001B[39;49m\u001B[43minsertInto\u001B[49m\u001B[43m(\u001B[49m\u001B[38;5;124;43m\"\u001B[39;49m\u001B[38;5;124;43mf1_processed.results\u001B[39;49m\u001B[38;5;124;43m\"\u001B[39;49m\u001B[43m)\u001B[49m\n\u001B[1;32m      3\u001B[0m \u001B[38;5;28;01melse\u001B[39;00m:\n\u001B[1;32m      4\u001B[0m     results_final_df\u001B[38;5;241m.\u001B[39mwrite\u001B[38;5;241m.\u001B[39mmode(\u001B[38;5;124m\"\u001B[39m\u001B[38;5;124moverwrite\u001B[39m\u001B[38;5;124m\"\u001B[39m)\u001B[38;5;241m.\u001B[39mformat(\u001B[38;5;124m\"\u001B[39m\u001B[38;5;124mparquet\u001B[39m\u001B[38;5;124m\"\u001B[39m)\u001B[38;5;241m.\u001B[39msaveAsTable(\u001B[38;5;124m\"\u001B[39m\u001B[38;5;124mf1_processed.results\u001B[39m\u001B[38;5;124m\"\u001B[39m)\n\nFile \u001B[0;32m/databricks/spark/python/pyspark/instrumentation_utils.py:48\u001B[0m, in \u001B[0;36m_wrap_function.<locals>.wrapper\u001B[0;34m(*args, **kwargs)\u001B[0m\n\u001B[1;32m     46\u001B[0m start \u001B[38;5;241m=\u001B[39m time\u001B[38;5;241m.\u001B[39mperf_counter()\n\u001B[1;32m     47\u001B[0m \u001B[38;5;28;01mtry\u001B[39;00m:\n\u001B[0;32m---> 48\u001B[0m     res \u001B[38;5;241m=\u001B[39m \u001B[43mfunc\u001B[49m\u001B[43m(\u001B[49m\u001B[38;5;241;43m*\u001B[39;49m\u001B[43margs\u001B[49m\u001B[43m,\u001B[49m\u001B[43m \u001B[49m\u001B[38;5;241;43m*\u001B[39;49m\u001B[38;5;241;43m*\u001B[39;49m\u001B[43mkwargs\u001B[49m\u001B[43m)\u001B[49m\n\u001B[1;32m     49\u001B[0m     logger\u001B[38;5;241m.\u001B[39mlog_success(\n\u001B[1;32m     50\u001B[0m         module_name, class_name, function_name, time\u001B[38;5;241m.\u001B[39mperf_counter() \u001B[38;5;241m-\u001B[39m start, signature\n\u001B[1;32m     51\u001B[0m     )\n\u001B[1;32m     52\u001B[0m     \u001B[38;5;28;01mreturn\u001B[39;00m res\n\nFile \u001B[0;32m/databricks/spark/python/pyspark/sql/readwriter.py:1513\u001B[0m, in \u001B[0;36mDataFrameWriter.insertInto\u001B[0;34m(self, tableName, overwrite)\u001B[0m\n\u001B[1;32m   1511\u001B[0m \u001B[38;5;28;01mif\u001B[39;00m overwrite \u001B[38;5;129;01mis\u001B[39;00m \u001B[38;5;129;01mnot\u001B[39;00m \u001B[38;5;28;01mNone\u001B[39;00m:\n\u001B[1;32m   1512\u001B[0m     \u001B[38;5;28mself\u001B[39m\u001B[38;5;241m.\u001B[39mmode(\u001B[38;5;124m\"\u001B[39m\u001B[38;5;124moverwrite\u001B[39m\u001B[38;5;124m\"\u001B[39m \u001B[38;5;28;01mif\u001B[39;00m overwrite \u001B[38;5;28;01melse\u001B[39;00m \u001B[38;5;124m\"\u001B[39m\u001B[38;5;124mappend\u001B[39m\u001B[38;5;124m\"\u001B[39m)\n\u001B[0;32m-> 1513\u001B[0m \u001B[38;5;28;43mself\u001B[39;49m\u001B[38;5;241;43m.\u001B[39;49m\u001B[43m_jwrite\u001B[49m\u001B[38;5;241;43m.\u001B[39;49m\u001B[43minsertInto\u001B[49m\u001B[43m(\u001B[49m\u001B[43mtableName\u001B[49m\u001B[43m)\u001B[49m\n\nFile \u001B[0;32m/databricks/spark/python/lib/py4j-0.10.9.7-src.zip/py4j/java_gateway.py:1355\u001B[0m, in \u001B[0;36mJavaMember.__call__\u001B[0;34m(self, *args)\u001B[0m\n\u001B[1;32m   1349\u001B[0m command \u001B[38;5;241m=\u001B[39m proto\u001B[38;5;241m.\u001B[39mCALL_COMMAND_NAME \u001B[38;5;241m+\u001B[39m\\\n\u001B[1;32m   1350\u001B[0m     \u001B[38;5;28mself\u001B[39m\u001B[38;5;241m.\u001B[39mcommand_header \u001B[38;5;241m+\u001B[39m\\\n\u001B[1;32m   1351\u001B[0m     args_command \u001B[38;5;241m+\u001B[39m\\\n\u001B[1;32m   1352\u001B[0m     proto\u001B[38;5;241m.\u001B[39mEND_COMMAND_PART\n\u001B[1;32m   1354\u001B[0m answer \u001B[38;5;241m=\u001B[39m \u001B[38;5;28mself\u001B[39m\u001B[38;5;241m.\u001B[39mgateway_client\u001B[38;5;241m.\u001B[39msend_command(command)\n\u001B[0;32m-> 1355\u001B[0m return_value \u001B[38;5;241m=\u001B[39m \u001B[43mget_return_value\u001B[49m\u001B[43m(\u001B[49m\n\u001B[1;32m   1356\u001B[0m \u001B[43m    \u001B[49m\u001B[43manswer\u001B[49m\u001B[43m,\u001B[49m\u001B[43m \u001B[49m\u001B[38;5;28;43mself\u001B[39;49m\u001B[38;5;241;43m.\u001B[39;49m\u001B[43mgateway_client\u001B[49m\u001B[43m,\u001B[49m\u001B[43m \u001B[49m\u001B[38;5;28;43mself\u001B[39;49m\u001B[38;5;241;43m.\u001B[39;49m\u001B[43mtarget_id\u001B[49m\u001B[43m,\u001B[49m\u001B[43m \u001B[49m\u001B[38;5;28;43mself\u001B[39;49m\u001B[38;5;241;43m.\u001B[39;49m\u001B[43mname\u001B[49m\u001B[43m)\u001B[49m\n\u001B[1;32m   1358\u001B[0m \u001B[38;5;28;01mfor\u001B[39;00m temp_arg \u001B[38;5;129;01min\u001B[39;00m temp_args:\n\u001B[1;32m   1359\u001B[0m     \u001B[38;5;28;01mif\u001B[39;00m \u001B[38;5;28mhasattr\u001B[39m(temp_arg, \u001B[38;5;124m\"\u001B[39m\u001B[38;5;124m_detach\u001B[39m\u001B[38;5;124m\"\u001B[39m):\n\nFile \u001B[0;32m/databricks/spark/python/pyspark/errors/exceptions/captured.py:194\u001B[0m, in \u001B[0;36mcapture_sql_exception.<locals>.deco\u001B[0;34m(*a, **kw)\u001B[0m\n\u001B[1;32m    190\u001B[0m converted \u001B[38;5;241m=\u001B[39m convert_exception(e\u001B[38;5;241m.\u001B[39mjava_exception)\n\u001B[1;32m    191\u001B[0m \u001B[38;5;28;01mif\u001B[39;00m \u001B[38;5;129;01mnot\u001B[39;00m \u001B[38;5;28misinstance\u001B[39m(converted, UnknownException):\n\u001B[1;32m    192\u001B[0m     \u001B[38;5;66;03m# Hide where the exception came from that shows a non-Pythonic\u001B[39;00m\n\u001B[1;32m    193\u001B[0m     \u001B[38;5;66;03m# JVM exception message.\u001B[39;00m\n\u001B[0;32m--> 194\u001B[0m     \u001B[38;5;28;01mraise\u001B[39;00m converted \u001B[38;5;28;01mfrom\u001B[39;00m \u001B[38;5;28mNone\u001B[39m\n\u001B[1;32m    195\u001B[0m \u001B[38;5;28;01melse\u001B[39;00m:\n\u001B[1;32m    196\u001B[0m     \u001B[38;5;28;01mraise\u001B[39;00m\n\n\u001B[0;31mNumberFormatException\u001B[0m: [CAST_INVALID_INPUT] The value '' of the type \"STRING\" cannot be cast to \"INT\" because it is malformed. Correct the value as per the syntax, or change its target type. Use `try_cast` to tolerate malformed input and return NULL instead. If necessary set \"spark.sql.ansi.enabled\" to \"false\" to bypass this error.",
       "errorSummary": "<span class='ansi-red-fg'>NumberFormatException</span>: [CAST_INVALID_INPUT] The value '' of the type \"STRING\" cannot be cast to \"INT\" because it is malformed. Correct the value as per the syntax, or change its target type. Use `try_cast` to tolerate malformed input and return NULL instead. If necessary set \"spark.sql.ansi.enabled\" to \"false\" to bypass this error.",
       "errorTraceType": "ansi",
       "metadata": {},
       "type": "ipynbError"
      }
     },
     "output_type": "display_data"
    }
   ],
   "source": [
    "if (spark._jsparkSession.catalog().tableExists(\"f1_processed.results\")):\n",
    "    results_final_df.write.mode(\"overwrite\").insertInto(\"f1_processed.results\")\n",
    "else:\n",
    "    results_final_df.write.mode(\"overwrite\").format(\"parquet\").saveAsTable(\"f1_processed.results\")"
   ]
  },
  {
   "cell_type": "code",
   "execution_count": 0,
   "metadata": {
    "application/vnd.databricks.v1+cell": {
     "cellMetadata": {
      "byteLimit": 2048000,
      "rowLimit": 10000
     },
     "inputWidgets": {},
     "nuid": "c70c89d5-a2eb-4f99-ac74-086c00b57fe2",
     "showTitle": false,
     "tableResultSettingsMap": {},
     "title": ""
    }
   },
   "outputs": [],
   "source": [
    "dbutils.notebook.exit(\"Success\")"
   ]
  },
  {
   "cell_type": "code",
   "execution_count": 0,
   "metadata": {
    "application/vnd.databricks.v1+cell": {
     "cellMetadata": {
      "byteLimit": 2048000,
      "implicitDf": true,
      "rowLimit": 10000
     },
     "inputWidgets": {},
     "nuid": "34c464f2-5119-4d50-8cb8-41588eb64d80",
     "showTitle": false,
     "tableResultSettingsMap": {},
     "title": ""
    }
   },
   "outputs": [
    {
     "output_type": "display_data",
     "data": {
      "text/html": [
       "<style scoped>\n",
       "  .ansiout {\n",
       "    display: block;\n",
       "    unicode-bidi: embed;\n",
       "    white-space: pre-wrap;\n",
       "    word-wrap: break-word;\n",
       "    word-break: break-all;\n",
       "    font-family: \"Menlo\", \"Monaco\", \"Consolas\", \"Ubuntu Mono\", \"Source Code Pro\", monospace;\n",
       "    font-size: 13px;\n",
       "    color: #555;\n",
       "    margin-left: 4px;\n",
       "    line-height: 19px;\n",
       "  }\n",
       "</style>\n",
       "com.databricks.backend.common.rpc.SparkDriverExceptions$SQLExecutionException: org.apache.spark.sql.catalyst.parser.ParseException: \n",
       "[PARSE_SYNTAX_ERROR] Syntax error at or near '.'.(line 2, pos 17)\n",
       "\n",
       "== SQL ==\n",
       "SELECT raceId, COUNT(1),\n",
       "FROM f1_processed.results\n",
       "-----------------^^^\n",
       "GROUP BY raceId\n",
       "ORDER BY raceId DESC\n",
       "\n",
       "\tat org.apache.spark.sql.catalyst.parser.ParseException.withCommand(parsers.scala:259)\n",
       "\tat org.apache.spark.sql.catalyst.parser.AbstractParser.parse(parsers.scala:98)\n",
       "\tat org.apache.spark.sql.execution.SparkSqlParser.parse(SparkSqlParser.scala:111)\n",
       "\tat org.apache.spark.sql.catalyst.parser.AbstractSqlParser.parsePlan(AbstractSqlParser.scala:87)\n",
       "\tat com.databricks.sql.parser.DatabricksSqlParser.$anonfun$parsePlan$1(DatabricksSqlParser.scala:77)\n",
       "\tat com.databricks.sql.parser.DatabricksSqlParser.parse(DatabricksSqlParser.scala:98)\n",
       "\tat com.databricks.sql.parser.DatabricksSqlParser.parsePlan(DatabricksSqlParser.scala:74)\n",
       "\tat org.apache.spark.sql.SparkSession.$anonfun$sql$6(SparkSession.scala:919)\n",
       "\tat com.databricks.spark.util.FrameProfiler$.record(FrameProfiler.scala:94)\n",
       "\tat org.apache.spark.sql.catalyst.QueryPlanningTracker.measurePhase(QueryPlanningTracker.scala:383)\n",
       "\tat org.apache.spark.sql.SparkSession.$anonfun$sql$5(SparkSession.scala:918)\n",
       "\tat org.apache.spark.sql.SparkSession.withActive(SparkSession.scala:1148)\n",
       "\tat org.apache.spark.sql.SparkSession.sql(SparkSession.scala:917)\n",
       "\tat org.apache.spark.sql.SparkSession.$anonfun$sql$9(SparkSession.scala:951)\n",
       "\tat org.apache.spark.sql.SparkSession.withActive(SparkSession.scala:1148)\n",
       "\tat org.apache.spark.sql.SparkSession.sql(SparkSession.scala:951)\n",
       "\tat org.apache.spark.sql.SparkSession.sql(SparkSession.scala:984)\n",
       "\tat org.apache.spark.sql.SQLContext.sql(SQLContext.scala:695)\n",
       "\tat com.databricks.backend.daemon.driver.DriverLocal$DbClassicStrategy.executeSQLQuery(DriverLocal.scala:248)\n",
       "\tat com.databricks.backend.daemon.driver.DriverLocal.executeSQLSubCommand(DriverLocal.scala:330)\n",
       "\tat com.databricks.backend.daemon.driver.DriverLocal.$anonfun$executeSql$1(DriverLocal.scala:349)\n",
       "\tat scala.collection.immutable.List.map(List.scala:293)\n",
       "\tat com.databricks.backend.daemon.driver.DriverLocal.executeSql(DriverLocal.scala:344)\n",
       "\tat com.databricks.backend.daemon.driver.JupyterDriverLocal.repl(JupyterDriverLocal.scala:713)\n",
       "\tat com.databricks.backend.daemon.driver.DriverLocal.$anonfun$execute$37(DriverLocal.scala:1043)\n",
       "\tat com.databricks.unity.UCSEphemeralState$Handle.runWith(UCSEphemeralState.scala:45)\n",
       "\tat com.databricks.unity.HandleImpl.runWith(UCSHandle.scala:103)\n",
       "\tat com.databricks.backend.daemon.driver.DriverLocal.$anonfun$execute$26(DriverLocal.scala:1034)\n",
       "\tat com.databricks.logging.UsageLogging.$anonfun$withAttributionContext$1(UsageLogging.scala:426)\n",
       "\tat scala.util.DynamicVariable.withValue(DynamicVariable.scala:62)\n",
       "\tat com.databricks.logging.AttributionContext$.withValue(AttributionContext.scala:196)\n",
       "\tat com.databricks.logging.UsageLogging.withAttributionContext(UsageLogging.scala:424)\n",
       "\tat com.databricks.logging.UsageLogging.withAttributionContext$(UsageLogging.scala:418)\n",
       "\tat com.databricks.backend.daemon.driver.DriverLocal.withAttributionContext(DriverLocal.scala:80)\n",
       "\tat com.databricks.logging.UsageLogging.withAttributionTags(UsageLogging.scala:470)\n",
       "\tat com.databricks.logging.UsageLogging.withAttributionTags$(UsageLogging.scala:455)\n",
       "\tat com.databricks.backend.daemon.driver.DriverLocal.withAttributionTags(DriverLocal.scala:80)\n",
       "\tat com.databricks.backend.daemon.driver.DriverLocal.$anonfun$execute$1(DriverLocal.scala:981)\n",
       "\tat com.databricks.backend.daemon.driver.DriverLocal$.$anonfun$maybeSynchronizeExecution$4(DriverLocal.scala:1422)\n",
       "\tat com.databricks.backend.daemon.driver.DriverLocal.execute(DriverLocal.scala:668)\n",
       "\tat com.databricks.backend.daemon.driver.DriverWrapper.$anonfun$tryExecutingCommand$2(DriverWrapper.scala:859)\n",
       "\tat scala.util.Try$.apply(Try.scala:213)\n",
       "\tat com.databricks.backend.daemon.driver.DriverWrapper.$anonfun$tryExecutingCommand$1(DriverWrapper.scala:851)\n",
       "\tat com.databricks.backend.daemon.driver.DriverWrapper.$anonfun$tryExecutingCommand$3(DriverWrapper.scala:891)\n",
       "\tat com.databricks.logging.UsageLogging.executeThunkAndCaptureResultTags$1(UsageLogging.scala:667)\n",
       "\tat com.databricks.logging.UsageLogging.$anonfun$recordOperationWithResultTags$4(UsageLogging.scala:685)\n",
       "\tat com.databricks.logging.UsageLogging.$anonfun$withAttributionContext$1(UsageLogging.scala:426)\n",
       "\tat scala.util.DynamicVariable.withValue(DynamicVariable.scala:62)\n",
       "\tat com.databricks.logging.AttributionContext$.withValue(AttributionContext.scala:196)\n",
       "\tat com.databricks.logging.UsageLogging.withAttributionContext(UsageLogging.scala:424)\n",
       "\tat com.databricks.logging.UsageLogging.withAttributionContext$(UsageLogging.scala:418)\n",
       "\tat com.databricks.backend.daemon.driver.DriverWrapper.withAttributionContext(DriverWrapper.scala:76)\n",
       "\tat com.databricks.logging.UsageLogging.withAttributionTags(UsageLogging.scala:470)\n",
       "\tat com.databricks.logging.UsageLogging.withAttributionTags$(UsageLogging.scala:455)\n",
       "\tat com.databricks.backend.daemon.driver.DriverWrapper.withAttributionTags(DriverWrapper.scala:76)\n",
       "\tat com.databricks.logging.UsageLogging.recordOperationWithResultTags(UsageLogging.scala:662)\n",
       "\tat com.databricks.logging.UsageLogging.recordOperationWithResultTags$(UsageLogging.scala:580)\n",
       "\tat com.databricks.backend.daemon.driver.DriverWrapper.recordOperationWithResultTags(DriverWrapper.scala:76)\n",
       "\tat com.databricks.backend.daemon.driver.DriverWrapper.tryExecutingCommand(DriverWrapper.scala:891)\n",
       "\tat com.databricks.backend.daemon.driver.DriverWrapper.executeCommandAndGetError(DriverWrapper.scala:702)\n",
       "\tat com.databricks.backend.daemon.driver.DriverWrapper.executeCommand(DriverWrapper.scala:803)\n",
       "\tat com.databricks.backend.daemon.driver.DriverWrapper.$anonfun$runInnerLoop$1(DriverWrapper.scala:577)\n",
       "\tat scala.runtime.java8.JFunction0$mcV$sp.apply(JFunction0$mcV$sp.java:23)\n",
       "\tat com.databricks.logging.UsageLogging.$anonfun$withAttributionContext$1(UsageLogging.scala:426)\n",
       "\tat scala.util.DynamicVariable.withValue(DynamicVariable.scala:62)\n",
       "\tat com.databricks.logging.AttributionContext$.withValue(AttributionContext.scala:196)\n",
       "\tat com.databricks.logging.UsageLogging.withAttributionContext(UsageLogging.scala:424)\n",
       "\tat com.databricks.logging.UsageLogging.withAttributionContext$(UsageLogging.scala:418)\n",
       "\tat com.databricks.backend.daemon.driver.DriverWrapper.withAttributionContext(DriverWrapper.scala:76)\n",
       "\tat com.databricks.backend.daemon.driver.DriverWrapper.runInnerLoop(DriverWrapper.scala:577)\n",
       "\tat com.databricks.backend.daemon.driver.DriverWrapper.runInner(DriverWrapper.scala:487)\n",
       "\tat com.databricks.backend.daemon.driver.DriverWrapper.run(DriverWrapper.scala:296)\n",
       "\tat java.lang.Thread.run(Thread.java:750)\n",
       "\n",
       "\tat com.databricks.backend.daemon.driver.DriverLocal.executeSql(DriverLocal.scala:387)\n",
       "\tat com.databricks.backend.daemon.driver.JupyterDriverLocal.repl(JupyterDriverLocal.scala:713)\n",
       "\tat com.databricks.backend.daemon.driver.DriverLocal.$anonfun$execute$37(DriverLocal.scala:1043)\n",
       "\tat com.databricks.unity.UCSEphemeralState$Handle.runWith(UCSEphemeralState.scala:45)\n",
       "\tat com.databricks.unity.HandleImpl.runWith(UCSHandle.scala:103)\n",
       "\tat com.databricks.backend.daemon.driver.DriverLocal.$anonfun$execute$26(DriverLocal.scala:1034)\n",
       "\tat com.databricks.logging.UsageLogging.$anonfun$withAttributionContext$1(UsageLogging.scala:426)\n",
       "\tat scala.util.DynamicVariable.withValue(DynamicVariable.scala:62)\n",
       "\tat com.databricks.logging.AttributionContext$.withValue(AttributionContext.scala:196)\n",
       "\tat com.databricks.logging.UsageLogging.withAttributionContext(UsageLogging.scala:424)\n",
       "\tat com.databricks.logging.UsageLogging.withAttributionContext$(UsageLogging.scala:418)\n",
       "\tat com.databricks.backend.daemon.driver.DriverLocal.withAttributionContext(DriverLocal.scala:80)\n",
       "\tat com.databricks.logging.UsageLogging.withAttributionTags(UsageLogging.scala:470)\n",
       "\tat com.databricks.logging.UsageLogging.withAttributionTags$(UsageLogging.scala:455)\n",
       "\tat com.databricks.backend.daemon.driver.DriverLocal.withAttributionTags(DriverLocal.scala:80)\n",
       "\tat com.databricks.backend.daemon.driver.DriverLocal.$anonfun$execute$1(DriverLocal.scala:981)\n",
       "\tat com.databricks.backend.daemon.driver.DriverLocal$.$anonfun$maybeSynchronizeExecution$4(DriverLocal.scala:1422)\n",
       "\tat com.databricks.backend.daemon.driver.DriverLocal.execute(DriverLocal.scala:668)\n",
       "\tat com.databricks.backend.daemon.driver.DriverWrapper.$anonfun$tryExecutingCommand$2(DriverWrapper.scala:859)\n",
       "\tat scala.util.Try$.apply(Try.scala:213)\n",
       "\tat com.databricks.backend.daemon.driver.DriverWrapper.$anonfun$tryExecutingCommand$1(DriverWrapper.scala:851)\n",
       "\tat com.databricks.backend.daemon.driver.DriverWrapper.$anonfun$tryExecutingCommand$3(DriverWrapper.scala:891)\n",
       "\tat com.databricks.logging.UsageLogging.executeThunkAndCaptureResultTags$1(UsageLogging.scala:667)\n",
       "\tat com.databricks.logging.UsageLogging.$anonfun$recordOperationWithResultTags$4(UsageLogging.scala:685)\n",
       "\tat com.databricks.logging.UsageLogging.$anonfun$withAttributionContext$1(UsageLogging.scala:426)\n",
       "\tat scala.util.DynamicVariable.withValue(DynamicVariable.scala:62)\n",
       "\tat com.databricks.logging.AttributionContext$.withValue(AttributionContext.scala:196)\n",
       "\tat com.databricks.logging.UsageLogging.withAttributionContext(UsageLogging.scala:424)\n",
       "\tat com.databricks.logging.UsageLogging.withAttributionContext$(UsageLogging.scala:418)\n",
       "\tat com.databricks.backend.daemon.driver.DriverWrapper.withAttributionContext(DriverWrapper.scala:76)\n",
       "\tat com.databricks.logging.UsageLogging.withAttributionTags(UsageLogging.scala:470)\n",
       "\tat com.databricks.logging.UsageLogging.withAttributionTags$(UsageLogging.scala:455)\n",
       "\tat com.databricks.backend.daemon.driver.DriverWrapper.withAttributionTags(DriverWrapper.scala:76)\n",
       "\tat com.databricks.logging.UsageLogging.recordOperationWithResultTags(UsageLogging.scala:662)\n",
       "\tat com.databricks.logging.UsageLogging.recordOperationWithResultTags$(UsageLogging.scala:580)\n",
       "\tat com.databricks.backend.daemon.driver.DriverWrapper.recordOperationWithResultTags(DriverWrapper.scala:76)\n",
       "\tat com.databricks.backend.daemon.driver.DriverWrapper.tryExecutingCommand(DriverWrapper.scala:891)\n",
       "\tat com.databricks.backend.daemon.driver.DriverWrapper.executeCommandAndGetError(DriverWrapper.scala:702)\n",
       "\tat com.databricks.backend.daemon.driver.DriverWrapper.executeCommand(DriverWrapper.scala:803)\n",
       "\tat com.databricks.backend.daemon.driver.DriverWrapper.$anonfun$runInnerLoop$1(DriverWrapper.scala:577)\n",
       "\tat scala.runtime.java8.JFunction0$mcV$sp.apply(JFunction0$mcV$sp.java:23)\n",
       "\tat com.databricks.logging.UsageLogging.$anonfun$withAttributionContext$1(UsageLogging.scala:426)\n",
       "\tat scala.util.DynamicVariable.withValue(DynamicVariable.scala:62)\n",
       "\tat com.databricks.logging.AttributionContext$.withValue(AttributionContext.scala:196)\n",
       "\tat com.databricks.logging.UsageLogging.withAttributionContext(UsageLogging.scala:424)\n",
       "\tat com.databricks.logging.UsageLogging.withAttributionContext$(UsageLogging.scala:418)\n",
       "\tat com.databricks.backend.daemon.driver.DriverWrapper.withAttributionContext(DriverWrapper.scala:76)\n",
       "\tat com.databricks.backend.daemon.driver.DriverWrapper.runInnerLoop(DriverWrapper.scala:577)\n",
       "\tat com.databricks.backend.daemon.driver.DriverWrapper.runInner(DriverWrapper.scala:487)\n",
       "\tat com.databricks.backend.daemon.driver.DriverWrapper.run(DriverWrapper.scala:296)\n",
       "\tat java.lang.Thread.run(Thread.java:750)"
      ]
     },
     "metadata": {
      "application/vnd.databricks.v1+output": {
       "arguments": {},
       "data": "com.databricks.backend.common.rpc.SparkDriverExceptions$SQLExecutionException: org.apache.spark.sql.catalyst.parser.ParseException: \n[PARSE_SYNTAX_ERROR] Syntax error at or near '.'.(line 2, pos 17)\n\n== SQL ==\nSELECT raceId, COUNT(1),\nFROM f1_processed.results\n-----------------^^^\nGROUP BY raceId\nORDER BY raceId DESC\n\n\tat org.apache.spark.sql.catalyst.parser.ParseException.withCommand(parsers.scala:259)\n\tat org.apache.spark.sql.catalyst.parser.AbstractParser.parse(parsers.scala:98)\n\tat org.apache.spark.sql.execution.SparkSqlParser.parse(SparkSqlParser.scala:111)\n\tat org.apache.spark.sql.catalyst.parser.AbstractSqlParser.parsePlan(AbstractSqlParser.scala:87)\n\tat com.databricks.sql.parser.DatabricksSqlParser.$anonfun$parsePlan$1(DatabricksSqlParser.scala:77)\n\tat com.databricks.sql.parser.DatabricksSqlParser.parse(DatabricksSqlParser.scala:98)\n\tat com.databricks.sql.parser.DatabricksSqlParser.parsePlan(DatabricksSqlParser.scala:74)\n\tat org.apache.spark.sql.SparkSession.$anonfun$sql$6(SparkSession.scala:919)\n\tat com.databricks.spark.util.FrameProfiler$.record(FrameProfiler.scala:94)\n\tat org.apache.spark.sql.catalyst.QueryPlanningTracker.measurePhase(QueryPlanningTracker.scala:383)\n\tat org.apache.spark.sql.SparkSession.$anonfun$sql$5(SparkSession.scala:918)\n\tat org.apache.spark.sql.SparkSession.withActive(SparkSession.scala:1148)\n\tat org.apache.spark.sql.SparkSession.sql(SparkSession.scala:917)\n\tat org.apache.spark.sql.SparkSession.$anonfun$sql$9(SparkSession.scala:951)\n\tat org.apache.spark.sql.SparkSession.withActive(SparkSession.scala:1148)\n\tat org.apache.spark.sql.SparkSession.sql(SparkSession.scala:951)\n\tat org.apache.spark.sql.SparkSession.sql(SparkSession.scala:984)\n\tat org.apache.spark.sql.SQLContext.sql(SQLContext.scala:695)\n\tat com.databricks.backend.daemon.driver.DriverLocal$DbClassicStrategy.executeSQLQuery(DriverLocal.scala:248)\n\tat com.databricks.backend.daemon.driver.DriverLocal.executeSQLSubCommand(DriverLocal.scala:330)\n\tat com.databricks.backend.daemon.driver.DriverLocal.$anonfun$executeSql$1(DriverLocal.scala:349)\n\tat scala.collection.immutable.List.map(List.scala:293)\n\tat com.databricks.backend.daemon.driver.DriverLocal.executeSql(DriverLocal.scala:344)\n\tat com.databricks.backend.daemon.driver.JupyterDriverLocal.repl(JupyterDriverLocal.scala:713)\n\tat com.databricks.backend.daemon.driver.DriverLocal.$anonfun$execute$37(DriverLocal.scala:1043)\n\tat com.databricks.unity.UCSEphemeralState$Handle.runWith(UCSEphemeralState.scala:45)\n\tat com.databricks.unity.HandleImpl.runWith(UCSHandle.scala:103)\n\tat com.databricks.backend.daemon.driver.DriverLocal.$anonfun$execute$26(DriverLocal.scala:1034)\n\tat com.databricks.logging.UsageLogging.$anonfun$withAttributionContext$1(UsageLogging.scala:426)\n\tat scala.util.DynamicVariable.withValue(DynamicVariable.scala:62)\n\tat com.databricks.logging.AttributionContext$.withValue(AttributionContext.scala:196)\n\tat com.databricks.logging.UsageLogging.withAttributionContext(UsageLogging.scala:424)\n\tat com.databricks.logging.UsageLogging.withAttributionContext$(UsageLogging.scala:418)\n\tat com.databricks.backend.daemon.driver.DriverLocal.withAttributionContext(DriverLocal.scala:80)\n\tat com.databricks.logging.UsageLogging.withAttributionTags(UsageLogging.scala:470)\n\tat com.databricks.logging.UsageLogging.withAttributionTags$(UsageLogging.scala:455)\n\tat com.databricks.backend.daemon.driver.DriverLocal.withAttributionTags(DriverLocal.scala:80)\n\tat com.databricks.backend.daemon.driver.DriverLocal.$anonfun$execute$1(DriverLocal.scala:981)\n\tat com.databricks.backend.daemon.driver.DriverLocal$.$anonfun$maybeSynchronizeExecution$4(DriverLocal.scala:1422)\n\tat com.databricks.backend.daemon.driver.DriverLocal.execute(DriverLocal.scala:668)\n\tat com.databricks.backend.daemon.driver.DriverWrapper.$anonfun$tryExecutingCommand$2(DriverWrapper.scala:859)\n\tat scala.util.Try$.apply(Try.scala:213)\n\tat com.databricks.backend.daemon.driver.DriverWrapper.$anonfun$tryExecutingCommand$1(DriverWrapper.scala:851)\n\tat com.databricks.backend.daemon.driver.DriverWrapper.$anonfun$tryExecutingCommand$3(DriverWrapper.scala:891)\n\tat com.databricks.logging.UsageLogging.executeThunkAndCaptureResultTags$1(UsageLogging.scala:667)\n\tat com.databricks.logging.UsageLogging.$anonfun$recordOperationWithResultTags$4(UsageLogging.scala:685)\n\tat com.databricks.logging.UsageLogging.$anonfun$withAttributionContext$1(UsageLogging.scala:426)\n\tat scala.util.DynamicVariable.withValue(DynamicVariable.scala:62)\n\tat com.databricks.logging.AttributionContext$.withValue(AttributionContext.scala:196)\n\tat com.databricks.logging.UsageLogging.withAttributionContext(UsageLogging.scala:424)\n\tat com.databricks.logging.UsageLogging.withAttributionContext$(UsageLogging.scala:418)\n\tat com.databricks.backend.daemon.driver.DriverWrapper.withAttributionContext(DriverWrapper.scala:76)\n\tat com.databricks.logging.UsageLogging.withAttributionTags(UsageLogging.scala:470)\n\tat com.databricks.logging.UsageLogging.withAttributionTags$(UsageLogging.scala:455)\n\tat com.databricks.backend.daemon.driver.DriverWrapper.withAttributionTags(DriverWrapper.scala:76)\n\tat com.databricks.logging.UsageLogging.recordOperationWithResultTags(UsageLogging.scala:662)\n\tat com.databricks.logging.UsageLogging.recordOperationWithResultTags$(UsageLogging.scala:580)\n\tat com.databricks.backend.daemon.driver.DriverWrapper.recordOperationWithResultTags(DriverWrapper.scala:76)\n\tat com.databricks.backend.daemon.driver.DriverWrapper.tryExecutingCommand(DriverWrapper.scala:891)\n\tat com.databricks.backend.daemon.driver.DriverWrapper.executeCommandAndGetError(DriverWrapper.scala:702)\n\tat com.databricks.backend.daemon.driver.DriverWrapper.executeCommand(DriverWrapper.scala:803)\n\tat com.databricks.backend.daemon.driver.DriverWrapper.$anonfun$runInnerLoop$1(DriverWrapper.scala:577)\n\tat scala.runtime.java8.JFunction0$mcV$sp.apply(JFunction0$mcV$sp.java:23)\n\tat com.databricks.logging.UsageLogging.$anonfun$withAttributionContext$1(UsageLogging.scala:426)\n\tat scala.util.DynamicVariable.withValue(DynamicVariable.scala:62)\n\tat com.databricks.logging.AttributionContext$.withValue(AttributionContext.scala:196)\n\tat com.databricks.logging.UsageLogging.withAttributionContext(UsageLogging.scala:424)\n\tat com.databricks.logging.UsageLogging.withAttributionContext$(UsageLogging.scala:418)\n\tat com.databricks.backend.daemon.driver.DriverWrapper.withAttributionContext(DriverWrapper.scala:76)\n\tat com.databricks.backend.daemon.driver.DriverWrapper.runInnerLoop(DriverWrapper.scala:577)\n\tat com.databricks.backend.daemon.driver.DriverWrapper.runInner(DriverWrapper.scala:487)\n\tat com.databricks.backend.daemon.driver.DriverWrapper.run(DriverWrapper.scala:296)\n\tat java.lang.Thread.run(Thread.java:750)\n\n\tat com.databricks.backend.daemon.driver.DriverLocal.executeSql(DriverLocal.scala:387)\n\tat com.databricks.backend.daemon.driver.JupyterDriverLocal.repl(JupyterDriverLocal.scala:713)\n\tat com.databricks.backend.daemon.driver.DriverLocal.$anonfun$execute$37(DriverLocal.scala:1043)\n\tat com.databricks.unity.UCSEphemeralState$Handle.runWith(UCSEphemeralState.scala:45)\n\tat com.databricks.unity.HandleImpl.runWith(UCSHandle.scala:103)\n\tat com.databricks.backend.daemon.driver.DriverLocal.$anonfun$execute$26(DriverLocal.scala:1034)\n\tat com.databricks.logging.UsageLogging.$anonfun$withAttributionContext$1(UsageLogging.scala:426)\n\tat scala.util.DynamicVariable.withValue(DynamicVariable.scala:62)\n\tat com.databricks.logging.AttributionContext$.withValue(AttributionContext.scala:196)\n\tat com.databricks.logging.UsageLogging.withAttributionContext(UsageLogging.scala:424)\n\tat com.databricks.logging.UsageLogging.withAttributionContext$(UsageLogging.scala:418)\n\tat com.databricks.backend.daemon.driver.DriverLocal.withAttributionContext(DriverLocal.scala:80)\n\tat com.databricks.logging.UsageLogging.withAttributionTags(UsageLogging.scala:470)\n\tat com.databricks.logging.UsageLogging.withAttributionTags$(UsageLogging.scala:455)\n\tat com.databricks.backend.daemon.driver.DriverLocal.withAttributionTags(DriverLocal.scala:80)\n\tat com.databricks.backend.daemon.driver.DriverLocal.$anonfun$execute$1(DriverLocal.scala:981)\n\tat com.databricks.backend.daemon.driver.DriverLocal$.$anonfun$maybeSynchronizeExecution$4(DriverLocal.scala:1422)\n\tat com.databricks.backend.daemon.driver.DriverLocal.execute(DriverLocal.scala:668)\n\tat com.databricks.backend.daemon.driver.DriverWrapper.$anonfun$tryExecutingCommand$2(DriverWrapper.scala:859)\n\tat scala.util.Try$.apply(Try.scala:213)\n\tat com.databricks.backend.daemon.driver.DriverWrapper.$anonfun$tryExecutingCommand$1(DriverWrapper.scala:851)\n\tat com.databricks.backend.daemon.driver.DriverWrapper.$anonfun$tryExecutingCommand$3(DriverWrapper.scala:891)\n\tat com.databricks.logging.UsageLogging.executeThunkAndCaptureResultTags$1(UsageLogging.scala:667)\n\tat com.databricks.logging.UsageLogging.$anonfun$recordOperationWithResultTags$4(UsageLogging.scala:685)\n\tat com.databricks.logging.UsageLogging.$anonfun$withAttributionContext$1(UsageLogging.scala:426)\n\tat scala.util.DynamicVariable.withValue(DynamicVariable.scala:62)\n\tat com.databricks.logging.AttributionContext$.withValue(AttributionContext.scala:196)\n\tat com.databricks.logging.UsageLogging.withAttributionContext(UsageLogging.scala:424)\n\tat com.databricks.logging.UsageLogging.withAttributionContext$(UsageLogging.scala:418)\n\tat com.databricks.backend.daemon.driver.DriverWrapper.withAttributionContext(DriverWrapper.scala:76)\n\tat com.databricks.logging.UsageLogging.withAttributionTags(UsageLogging.scala:470)\n\tat com.databricks.logging.UsageLogging.withAttributionTags$(UsageLogging.scala:455)\n\tat com.databricks.backend.daemon.driver.DriverWrapper.withAttributionTags(DriverWrapper.scala:76)\n\tat com.databricks.logging.UsageLogging.recordOperationWithResultTags(UsageLogging.scala:662)\n\tat com.databricks.logging.UsageLogging.recordOperationWithResultTags$(UsageLogging.scala:580)\n\tat com.databricks.backend.daemon.driver.DriverWrapper.recordOperationWithResultTags(DriverWrapper.scala:76)\n\tat com.databricks.backend.daemon.driver.DriverWrapper.tryExecutingCommand(DriverWrapper.scala:891)\n\tat com.databricks.backend.daemon.driver.DriverWrapper.executeCommandAndGetError(DriverWrapper.scala:702)\n\tat com.databricks.backend.daemon.driver.DriverWrapper.executeCommand(DriverWrapper.scala:803)\n\tat com.databricks.backend.daemon.driver.DriverWrapper.$anonfun$runInnerLoop$1(DriverWrapper.scala:577)\n\tat scala.runtime.java8.JFunction0$mcV$sp.apply(JFunction0$mcV$sp.java:23)\n\tat com.databricks.logging.UsageLogging.$anonfun$withAttributionContext$1(UsageLogging.scala:426)\n\tat scala.util.DynamicVariable.withValue(DynamicVariable.scala:62)\n\tat com.databricks.logging.AttributionContext$.withValue(AttributionContext.scala:196)\n\tat com.databricks.logging.UsageLogging.withAttributionContext(UsageLogging.scala:424)\n\tat com.databricks.logging.UsageLogging.withAttributionContext$(UsageLogging.scala:418)\n\tat com.databricks.backend.daemon.driver.DriverWrapper.withAttributionContext(DriverWrapper.scala:76)\n\tat com.databricks.backend.daemon.driver.DriverWrapper.runInnerLoop(DriverWrapper.scala:577)\n\tat com.databricks.backend.daemon.driver.DriverWrapper.runInner(DriverWrapper.scala:487)\n\tat com.databricks.backend.daemon.driver.DriverWrapper.run(DriverWrapper.scala:296)\n\tat java.lang.Thread.run(Thread.java:750)\n",
       "errorSummary": "ParseException: \n[PARSE_SYNTAX_ERROR] Syntax error at or near '.'.(line 2, pos 17)\n\n== SQL ==\nSELECT raceId, COUNT(1),\nFROM f1_processed.results\n-----------------^^^\nGROUP BY raceId\nORDER BY raceId DESC\n",
       "errorTraceType": "html",
       "metadata": {},
       "type": "ipynbError"
      }
     },
     "output_type": "display_data"
    }
   ],
   "source": [
    "%sql\n",
    "SELECT raceId, COUNT(1),\n",
    "FROM f1_processed.results\n",
    "GROUP BY raceId\n",
    "ORDER BY raceId DESC"
   ]
  }
 ],
 "metadata": {
  "application/vnd.databricks.v1+notebook": {
   "computePreferences": null,
   "dashboards": [],
   "environmentMetadata": {
    "base_environment": "",
    "environment_version": "2"
   },
   "inputWidgetPreferences": null,
   "language": "python",
   "notebookMetadata": {
    "mostRecentlyExecutedCommandWithImplicitDF": {
     "commandId": 4995747289430840,
     "dataframes": [
      "_sqldf"
     ]
    },
    "pythonIndentUnit": 4
   },
   "notebookName": "Ingest_results_file",
   "widgets": {
    "p_data_source": {
     "currentValue": "",
     "nuid": "787d8ed6-2d05-4d7b-aaaf-73886d15000f",
     "typedWidgetInfo": {
      "autoCreated": false,
      "defaultValue": "",
      "label": null,
      "name": "p_data_source",
      "options": {
       "widgetDisplayType": "Text",
       "validationRegex": null
      },
      "parameterDataType": "String"
     },
     "widgetInfo": {
      "widgetType": "text",
      "defaultValue": "",
      "label": null,
      "name": "p_data_source",
      "options": {
       "widgetType": "text",
       "autoCreated": null,
       "validationRegex": null
      }
     }
    },
    "p_file_date": {
     "currentValue": "2021-04-18",
     "nuid": "7da809e0-a5bc-4029-b20e-eddbe7b04230",
     "typedWidgetInfo": {
      "autoCreated": false,
      "defaultValue": "2021-03-21",
      "label": null,
      "name": "p_file_date",
      "options": {
       "widgetDisplayType": "Text",
       "validationRegex": null
      },
      "parameterDataType": "String"
     },
     "widgetInfo": {
      "widgetType": "text",
      "defaultValue": "2021-03-21",
      "label": null,
      "name": "p_file_date",
      "options": {
       "widgetType": "text",
       "autoCreated": null,
       "validationRegex": null
      }
     }
    }
   }
  },
  "language_info": {
   "name": "python"
  }
 },
 "nbformat": 4,
 "nbformat_minor": 0
}